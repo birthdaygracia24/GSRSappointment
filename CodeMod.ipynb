{
  "nbformat": 4,
  "nbformat_minor": 0,
  "metadata": {
    "colab": {
      "name": "CodeWithMod.ipynb",
      "provenance": [],
      "collapsed_sections": [
        "Ew0zXkvoXzHa",
        "ttyzp6FmX4ID",
        "phald0WraTCg"
      ]
    },
    "kernelspec": {
      "name": "python3",
      "display_name": "Python 3"
    },
    "language_info": {
      "name": "python"
    }
  },
  "cells": [
    {
      "cell_type": "markdown",
      "metadata": {
        "id": "8y7B_X38VF7I"
      },
      "source": [
        "# **Instalasi Cardea**"
      ]
    },
    {
      "cell_type": "code",
      "metadata": {
        "id": "gqdwUwC9xZuD",
        "colab": {
          "base_uri": "https://localhost:8080/"
        },
        "outputId": "a1abb5e7-f520-4d55-a1f0-de0e5e7cb639"
      },
      "source": [
        "! pip install cardea\n",
        "# ! pip install 'urllib3!=1.25.0,!=1.25.1,<1.26,>=1.21.1' # Dijadikan komentar karena keberadaannya terdapat pada baris code asli milik Author, namun tidak memengaruhi baris code dari hasil modifikasi"
      ],
      "execution_count": 1,
      "outputs": [
        {
          "output_type": "stream",
          "name": "stdout",
          "text": [
            "Requirement already satisfied: cardea in /usr/local/lib/python3.7/dist-packages (0.1.2)\n",
            "Requirement already satisfied: pyCLI==2.0.3 in /usr/local/lib/python3.7/dist-packages (from cardea) (2.0.3)\n",
            "Requirement already satisfied: scikit-learn<0.22,>=0.21 in /usr/local/lib/python3.7/dist-packages (from cardea) (0.21.3)\n",
            "Requirement already satisfied: featuretools<0.25,>=0.20.0 in /usr/local/lib/python3.7/dist-packages (from cardea) (0.22.0)\n",
            "Requirement already satisfied: baytune<0.5,>=0.4.0 in /usr/local/lib/python3.7/dist-packages (from cardea) (0.4.0)\n",
            "Requirement already satisfied: mlprimitives<0.4,>=0.3.0 in /usr/local/lib/python3.7/dist-packages (from cardea) (0.3.2)\n",
            "Requirement already satisfied: mlblocks<0.5,>=0.4.0 in /usr/local/lib/python3.7/dist-packages (from cardea) (0.4.1)\n",
            "Requirement already satisfied: tqdm<5,>=4.36.1 in /usr/local/lib/python3.7/dist-packages (from baytune<0.5,>=0.4.0->cardea) (4.62.3)\n",
            "Requirement already satisfied: pandas<2,>=1 in /usr/local/lib/python3.7/dist-packages (from baytune<0.5,>=0.4.0->cardea) (1.3.4)\n",
            "Requirement already satisfied: copulas<0.4,>=0.3.2 in /usr/local/lib/python3.7/dist-packages (from baytune<0.5,>=0.4.0->cardea) (0.3.3)\n",
            "Requirement already satisfied: numpy>=1.14.0 in /usr/local/lib/python3.7/dist-packages (from baytune<0.5,>=0.4.0->cardea) (1.19.5)\n",
            "Requirement already satisfied: scipy<2,>=1.2 in /usr/local/lib/python3.7/dist-packages (from baytune<0.5,>=0.4.0->cardea) (1.4.1)\n",
            "Requirement already satisfied: matplotlib<3.2.2,>=2.2.2 in /usr/local/lib/python3.7/dist-packages (from copulas<0.4,>=0.3.2->baytune<0.5,>=0.4.0->cardea) (3.2.1)\n",
            "Requirement already satisfied: distributed>=2.12.0 in /usr/local/lib/python3.7/dist-packages (from featuretools<0.25,>=0.20.0->cardea) (2.30.1)\n",
            "Requirement already satisfied: dask[dataframe]>=2.12.0 in /usr/local/lib/python3.7/dist-packages (from featuretools<0.25,>=0.20.0->cardea) (2.12.0)\n",
            "Requirement already satisfied: pyyaml>=3.12 in /usr/local/lib/python3.7/dist-packages (from featuretools<0.25,>=0.20.0->cardea) (6.0)\n",
            "Requirement already satisfied: click>=7.0.0 in /usr/local/lib/python3.7/dist-packages (from featuretools<0.25,>=0.20.0->cardea) (7.1.2)\n",
            "Requirement already satisfied: cloudpickle>=0.4.0 in /usr/local/lib/python3.7/dist-packages (from featuretools<0.25,>=0.20.0->cardea) (2.0.0)\n",
            "Requirement already satisfied: psutil>=5.4.8 in /usr/local/lib/python3.7/dist-packages (from featuretools<0.25,>=0.20.0->cardea) (5.8.0)\n",
            "Requirement already satisfied: partd>=0.3.10 in /usr/local/lib/python3.7/dist-packages (from dask[dataframe]>=2.12.0->featuretools<0.25,>=0.20.0->cardea) (1.2.0)\n",
            "Requirement already satisfied: fsspec>=0.6.0 in /usr/local/lib/python3.7/dist-packages (from dask[dataframe]>=2.12.0->featuretools<0.25,>=0.20.0->cardea) (2021.11.0)\n",
            "Requirement already satisfied: toolz>=0.7.3 in /usr/local/lib/python3.7/dist-packages (from dask[dataframe]>=2.12.0->featuretools<0.25,>=0.20.0->cardea) (0.11.2)\n",
            "Requirement already satisfied: setuptools in /usr/local/lib/python3.7/dist-packages (from distributed>=2.12.0->featuretools<0.25,>=0.20.0->cardea) (57.4.0)\n",
            "Requirement already satisfied: msgpack>=0.6.0 in /usr/local/lib/python3.7/dist-packages (from distributed>=2.12.0->featuretools<0.25,>=0.20.0->cardea) (1.0.2)\n",
            "Requirement already satisfied: zict>=0.1.3 in /usr/local/lib/python3.7/dist-packages (from distributed>=2.12.0->featuretools<0.25,>=0.20.0->cardea) (2.0.0)\n",
            "Requirement already satisfied: tornado>=5 in /usr/local/lib/python3.7/dist-packages (from distributed>=2.12.0->featuretools<0.25,>=0.20.0->cardea) (5.1.1)\n",
            "Requirement already satisfied: sortedcontainers!=2.0.0,!=2.0.1 in /usr/local/lib/python3.7/dist-packages (from distributed>=2.12.0->featuretools<0.25,>=0.20.0->cardea) (2.4.0)\n",
            "Requirement already satisfied: tblib>=1.6.0 in /usr/local/lib/python3.7/dist-packages (from distributed>=2.12.0->featuretools<0.25,>=0.20.0->cardea) (1.7.0)\n",
            "Requirement already satisfied: python-dateutil>=2.1 in /usr/local/lib/python3.7/dist-packages (from matplotlib<3.2.2,>=2.2.2->copulas<0.4,>=0.3.2->baytune<0.5,>=0.4.0->cardea) (2.8.2)\n",
            "Requirement already satisfied: cycler>=0.10 in /usr/local/lib/python3.7/dist-packages (from matplotlib<3.2.2,>=2.2.2->copulas<0.4,>=0.3.2->baytune<0.5,>=0.4.0->cardea) (0.11.0)\n",
            "Requirement already satisfied: pyparsing!=2.0.4,!=2.1.2,!=2.1.6,>=2.0.1 in /usr/local/lib/python3.7/dist-packages (from matplotlib<3.2.2,>=2.2.2->copulas<0.4,>=0.3.2->baytune<0.5,>=0.4.0->cardea) (3.0.6)\n",
            "Requirement already satisfied: kiwisolver>=1.0.1 in /usr/local/lib/python3.7/dist-packages (from matplotlib<3.2.2,>=2.2.2->copulas<0.4,>=0.3.2->baytune<0.5,>=0.4.0->cardea) (1.3.2)\n",
            "Requirement already satisfied: graphviz<1,>=0.9 in /usr/local/lib/python3.7/dist-packages (from mlblocks<0.5,>=0.4.0->cardea) (0.10.1)\n",
            "Requirement already satisfied: python-louvain<0.14,>=0.10 in /usr/local/lib/python3.7/dist-packages (from mlprimitives<0.4,>=0.3.0->cardea) (0.13)\n",
            "Requirement already satisfied: iso639<0.2,>=0.1.4 in /usr/local/lib/python3.7/dist-packages (from mlprimitives<0.4,>=0.3.0->cardea) (0.1.4)\n",
            "Requirement already satisfied: nltk<4,>=3.3 in /usr/local/lib/python3.7/dist-packages (from mlprimitives<0.4,>=0.3.0->cardea) (3.6.5)\n",
            "Requirement already satisfied: langdetect<2,>=1.0.7 in /usr/local/lib/python3.7/dist-packages (from mlprimitives<0.4,>=0.3.0->cardea) (1.0.9)\n",
            "Requirement already satisfied: Keras<2.5,>=2.4 in /usr/local/lib/python3.7/dist-packages (from mlprimitives<0.4,>=0.3.0->cardea) (2.4.3)\n",
            "Requirement already satisfied: xgboost<1,>=0.72.1 in /usr/local/lib/python3.7/dist-packages (from mlprimitives<0.4,>=0.3.0->cardea) (0.90)\n",
            "Requirement already satisfied: statsmodels<0.13,>=0.9.0 in /usr/local/lib/python3.7/dist-packages (from mlprimitives<0.4,>=0.3.0->cardea) (0.10.2)\n",
            "Requirement already satisfied: scikit-image>=0.15 in /usr/local/lib/python3.7/dist-packages (from mlprimitives<0.4,>=0.3.0->cardea) (0.18.3)\n",
            "Requirement already satisfied: networkx<3,>=2.0 in /usr/local/lib/python3.7/dist-packages (from mlprimitives<0.4,>=0.3.0->cardea) (2.6.3)\n",
            "Requirement already satisfied: lightfm<2,>=1.15 in /usr/local/lib/python3.7/dist-packages (from mlprimitives<0.4,>=0.3.0->cardea) (1.16)\n",
            "Requirement already satisfied: opencv-python<5,>=3.4.0.12 in /usr/local/lib/python3.7/dist-packages (from mlprimitives<0.4,>=0.3.0->cardea) (4.1.2.30)\n",
            "Requirement already satisfied: tensorflow<2.5,>=2 in /usr/local/lib/python3.7/dist-packages (from mlprimitives<0.4,>=0.3.0->cardea) (2.4.4)\n",
            "Requirement already satisfied: h5py in /usr/local/lib/python3.7/dist-packages (from Keras<2.5,>=2.4->mlprimitives<0.4,>=0.3.0->cardea) (2.10.0)\n",
            "Requirement already satisfied: six in /usr/local/lib/python3.7/dist-packages (from langdetect<2,>=1.0.7->mlprimitives<0.4,>=0.3.0->cardea) (1.15.0)\n",
            "Requirement already satisfied: requests in /usr/local/lib/python3.7/dist-packages (from lightfm<2,>=1.15->mlprimitives<0.4,>=0.3.0->cardea) (2.23.0)\n",
            "Requirement already satisfied: joblib in /usr/local/lib/python3.7/dist-packages (from nltk<4,>=3.3->mlprimitives<0.4,>=0.3.0->cardea) (1.1.0)\n",
            "Requirement already satisfied: regex>=2021.8.3 in /usr/local/lib/python3.7/dist-packages (from nltk<4,>=3.3->mlprimitives<0.4,>=0.3.0->cardea) (2021.11.10)\n",
            "Requirement already satisfied: pytz>=2017.3 in /usr/local/lib/python3.7/dist-packages (from pandas<2,>=1->baytune<0.5,>=0.4.0->cardea) (2018.9)\n",
            "Requirement already satisfied: locket in /usr/local/lib/python3.7/dist-packages (from partd>=0.3.10->dask[dataframe]>=2.12.0->featuretools<0.25,>=0.20.0->cardea) (0.2.1)\n",
            "Requirement already satisfied: imageio>=2.3.0 in /usr/local/lib/python3.7/dist-packages (from scikit-image>=0.15->mlprimitives<0.4,>=0.3.0->cardea) (2.4.1)\n",
            "Requirement already satisfied: pillow!=7.1.0,!=7.1.1,>=4.3.0 in /usr/local/lib/python3.7/dist-packages (from scikit-image>=0.15->mlprimitives<0.4,>=0.3.0->cardea) (7.1.2)\n",
            "Requirement already satisfied: PyWavelets>=1.1.1 in /usr/local/lib/python3.7/dist-packages (from scikit-image>=0.15->mlprimitives<0.4,>=0.3.0->cardea) (1.2.0)\n",
            "Requirement already satisfied: tifffile>=2019.7.26 in /usr/local/lib/python3.7/dist-packages (from scikit-image>=0.15->mlprimitives<0.4,>=0.3.0->cardea) (2021.11.2)\n",
            "Requirement already satisfied: patsy>=0.4.0 in /usr/local/lib/python3.7/dist-packages (from statsmodels<0.13,>=0.9.0->mlprimitives<0.4,>=0.3.0->cardea) (0.5.2)\n",
            "Requirement already satisfied: astunparse~=1.6.3 in /usr/local/lib/python3.7/dist-packages (from tensorflow<2.5,>=2->mlprimitives<0.4,>=0.3.0->cardea) (1.6.3)\n",
            "Requirement already satisfied: opt-einsum~=3.3.0 in /usr/local/lib/python3.7/dist-packages (from tensorflow<2.5,>=2->mlprimitives<0.4,>=0.3.0->cardea) (3.3.0)\n",
            "Requirement already satisfied: absl-py~=0.10 in /usr/local/lib/python3.7/dist-packages (from tensorflow<2.5,>=2->mlprimitives<0.4,>=0.3.0->cardea) (0.12.0)\n",
            "Requirement already satisfied: wheel~=0.35 in /usr/local/lib/python3.7/dist-packages (from tensorflow<2.5,>=2->mlprimitives<0.4,>=0.3.0->cardea) (0.37.0)\n",
            "Requirement already satisfied: google-pasta~=0.2 in /usr/local/lib/python3.7/dist-packages (from tensorflow<2.5,>=2->mlprimitives<0.4,>=0.3.0->cardea) (0.2.0)\n",
            "Requirement already satisfied: termcolor~=1.1.0 in /usr/local/lib/python3.7/dist-packages (from tensorflow<2.5,>=2->mlprimitives<0.4,>=0.3.0->cardea) (1.1.0)\n",
            "Requirement already satisfied: tensorflow-estimator<2.5.0,>=2.4.0 in /usr/local/lib/python3.7/dist-packages (from tensorflow<2.5,>=2->mlprimitives<0.4,>=0.3.0->cardea) (2.4.0)\n",
            "Requirement already satisfied: gast==0.3.3 in /usr/local/lib/python3.7/dist-packages (from tensorflow<2.5,>=2->mlprimitives<0.4,>=0.3.0->cardea) (0.3.3)\n",
            "Requirement already satisfied: grpcio~=1.32.0 in /usr/local/lib/python3.7/dist-packages (from tensorflow<2.5,>=2->mlprimitives<0.4,>=0.3.0->cardea) (1.32.0)\n",
            "Requirement already satisfied: keras-preprocessing~=1.1.2 in /usr/local/lib/python3.7/dist-packages (from tensorflow<2.5,>=2->mlprimitives<0.4,>=0.3.0->cardea) (1.1.2)\n",
            "Requirement already satisfied: tensorboard~=2.4 in /usr/local/lib/python3.7/dist-packages (from tensorflow<2.5,>=2->mlprimitives<0.4,>=0.3.0->cardea) (2.7.0)\n",
            "Requirement already satisfied: typing-extensions~=3.7.4 in /usr/local/lib/python3.7/dist-packages (from tensorflow<2.5,>=2->mlprimitives<0.4,>=0.3.0->cardea) (3.7.4.3)\n",
            "Requirement already satisfied: wrapt~=1.12.1 in /usr/local/lib/python3.7/dist-packages (from tensorflow<2.5,>=2->mlprimitives<0.4,>=0.3.0->cardea) (1.12.1)\n",
            "Requirement already satisfied: protobuf>=3.9.2 in /usr/local/lib/python3.7/dist-packages (from tensorflow<2.5,>=2->mlprimitives<0.4,>=0.3.0->cardea) (3.17.3)\n",
            "Requirement already satisfied: flatbuffers~=1.12.0 in /usr/local/lib/python3.7/dist-packages (from tensorflow<2.5,>=2->mlprimitives<0.4,>=0.3.0->cardea) (1.12)\n",
            "Requirement already satisfied: markdown>=2.6.8 in /usr/local/lib/python3.7/dist-packages (from tensorboard~=2.4->tensorflow<2.5,>=2->mlprimitives<0.4,>=0.3.0->cardea) (3.3.6)\n",
            "Requirement already satisfied: tensorboard-data-server<0.7.0,>=0.6.0 in /usr/local/lib/python3.7/dist-packages (from tensorboard~=2.4->tensorflow<2.5,>=2->mlprimitives<0.4,>=0.3.0->cardea) (0.6.1)\n",
            "Requirement already satisfied: google-auth<3,>=1.6.3 in /usr/local/lib/python3.7/dist-packages (from tensorboard~=2.4->tensorflow<2.5,>=2->mlprimitives<0.4,>=0.3.0->cardea) (1.35.0)\n",
            "Requirement already satisfied: google-auth-oauthlib<0.5,>=0.4.1 in /usr/local/lib/python3.7/dist-packages (from tensorboard~=2.4->tensorflow<2.5,>=2->mlprimitives<0.4,>=0.3.0->cardea) (0.4.6)\n",
            "Requirement already satisfied: tensorboard-plugin-wit>=1.6.0 in /usr/local/lib/python3.7/dist-packages (from tensorboard~=2.4->tensorflow<2.5,>=2->mlprimitives<0.4,>=0.3.0->cardea) (1.8.0)\n",
            "Requirement already satisfied: werkzeug>=0.11.15 in /usr/local/lib/python3.7/dist-packages (from tensorboard~=2.4->tensorflow<2.5,>=2->mlprimitives<0.4,>=0.3.0->cardea) (1.0.1)\n",
            "Requirement already satisfied: rsa<5,>=3.1.4 in /usr/local/lib/python3.7/dist-packages (from google-auth<3,>=1.6.3->tensorboard~=2.4->tensorflow<2.5,>=2->mlprimitives<0.4,>=0.3.0->cardea) (4.7.2)\n",
            "Requirement already satisfied: pyasn1-modules>=0.2.1 in /usr/local/lib/python3.7/dist-packages (from google-auth<3,>=1.6.3->tensorboard~=2.4->tensorflow<2.5,>=2->mlprimitives<0.4,>=0.3.0->cardea) (0.2.8)\n",
            "Requirement already satisfied: cachetools<5.0,>=2.0.0 in /usr/local/lib/python3.7/dist-packages (from google-auth<3,>=1.6.3->tensorboard~=2.4->tensorflow<2.5,>=2->mlprimitives<0.4,>=0.3.0->cardea) (4.2.4)\n",
            "Requirement already satisfied: requests-oauthlib>=0.7.0 in /usr/local/lib/python3.7/dist-packages (from google-auth-oauthlib<0.5,>=0.4.1->tensorboard~=2.4->tensorflow<2.5,>=2->mlprimitives<0.4,>=0.3.0->cardea) (1.3.0)\n",
            "Requirement already satisfied: importlib-metadata>=4.4 in /usr/local/lib/python3.7/dist-packages (from markdown>=2.6.8->tensorboard~=2.4->tensorflow<2.5,>=2->mlprimitives<0.4,>=0.3.0->cardea) (4.8.2)\n",
            "Requirement already satisfied: zipp>=0.5 in /usr/local/lib/python3.7/dist-packages (from importlib-metadata>=4.4->markdown>=2.6.8->tensorboard~=2.4->tensorflow<2.5,>=2->mlprimitives<0.4,>=0.3.0->cardea) (3.6.0)\n",
            "Requirement already satisfied: pyasn1<0.5.0,>=0.4.6 in /usr/local/lib/python3.7/dist-packages (from pyasn1-modules>=0.2.1->google-auth<3,>=1.6.3->tensorboard~=2.4->tensorflow<2.5,>=2->mlprimitives<0.4,>=0.3.0->cardea) (0.4.8)\n",
            "Requirement already satisfied: certifi>=2017.4.17 in /usr/local/lib/python3.7/dist-packages (from requests->lightfm<2,>=1.15->mlprimitives<0.4,>=0.3.0->cardea) (2021.10.8)\n",
            "Requirement already satisfied: idna<3,>=2.5 in /usr/local/lib/python3.7/dist-packages (from requests->lightfm<2,>=1.15->mlprimitives<0.4,>=0.3.0->cardea) (2.10)\n",
            "Requirement already satisfied: chardet<4,>=3.0.2 in /usr/local/lib/python3.7/dist-packages (from requests->lightfm<2,>=1.15->mlprimitives<0.4,>=0.3.0->cardea) (3.0.4)\n",
            "Requirement already satisfied: urllib3!=1.25.0,!=1.25.1,<1.26,>=1.21.1 in /usr/local/lib/python3.7/dist-packages (from requests->lightfm<2,>=1.15->mlprimitives<0.4,>=0.3.0->cardea) (1.24.3)\n",
            "Requirement already satisfied: oauthlib>=3.0.0 in /usr/local/lib/python3.7/dist-packages (from requests-oauthlib>=0.7.0->google-auth-oauthlib<0.5,>=0.4.1->tensorboard~=2.4->tensorflow<2.5,>=2->mlprimitives<0.4,>=0.3.0->cardea) (3.1.1)\n",
            "Requirement already satisfied: heapdict in /usr/local/lib/python3.7/dist-packages (from zict>=0.1.3->distributed>=2.12.0->featuretools<0.25,>=0.20.0->cardea) (1.0.1)\n"
          ]
        }
      ]
    },
    {
      "cell_type": "markdown",
      "metadata": {
        "id": "r3fzFvaEVDFs"
      },
      "source": [
        "# **Import Library** "
      ]
    },
    {
      "cell_type": "code",
      "metadata": {
        "id": "vPez2658xczY"
      },
      "source": [
        "# Library\n",
        "import pandas as pd\n",
        "import numpy as np\n",
        "\n",
        "# Cardea\n",
        "from cardea import Cardea\n",
        "\n",
        "# Model\n",
        "from sklearn.ensemble import RandomForestClassifier\n",
        "from sklearn.linear_model import LogisticRegression\n",
        "from sklearn.naive_bayes import GaussianNB\n",
        "from sklearn.ensemble import GradientBoostingClassifier\n",
        "from sklearn.neighbors import KNeighborsClassifier\n",
        "from sklearn.naive_bayes import MultinomialNB\n",
        "from sklearn.linear_model import SGDClassifier\n",
        "from xgboost import XGBClassifier\n",
        "\n",
        "# Grid Searh & Random Search\n",
        "from sklearn.model_selection import GridSearchCV\n",
        "from sklearn.model_selection import RandomizedSearchCV\n",
        "\n",
        "# Evaluation\n",
        "from sklearn.metrics import accuracy_score\n",
        "from sklearn.metrics import classification_report"
      ],
      "execution_count": 2,
      "outputs": []
    },
    {
      "cell_type": "code",
      "metadata": {
        "id": "M6mFmEsMxfl9"
      },
      "source": [
        "# optional\n",
        "import warnings\n",
        "warnings.filterwarnings(\"ignore\")"
      ],
      "execution_count": 3,
      "outputs": []
    },
    {
      "cell_type": "code",
      "metadata": {
        "id": "hnOCZJLYxg4C"
      },
      "source": [
        "cd = Cardea()"
      ],
      "execution_count": 4,
      "outputs": []
    },
    {
      "cell_type": "code",
      "metadata": {
        "id": "AXfYP8mGxiTx",
        "colab": {
          "base_uri": "https://localhost:8080/"
        },
        "outputId": "dc38e673-dc16-4f15-b81e-205b620b694c"
      },
      "source": [
        "! curl -O https://dai-cardea.s3.amazonaws.com/kaggle.zip && unzip kaggle.zip"
      ],
      "execution_count": 5,
      "outputs": [
        {
          "output_type": "stream",
          "name": "stdout",
          "text": [
            "  % Total    % Received % Xferd  Average Speed   Time    Time     Time  Current\n",
            "                                 Dload  Upload   Total   Spent    Left  Speed\n",
            "100 2988k  100 2988k    0     0  5216k      0 --:--:-- --:--:-- --:--:-- 5216k\n",
            "Archive:  kaggle.zip\n",
            "replace Patient.csv? [y]es, [n]o, [A]ll, [N]one, [r]ename: A\n",
            "  inflating: Patient.csv             \n",
            "  inflating: Coding.csv              \n",
            "  inflating: Appointment_Participant.csv  \n",
            "  inflating: Address.csv             \n",
            " extracting: CodeableConcept.csv     \n",
            "  inflating: Reference.csv           \n",
            "  inflating: Observation.csv         \n",
            "  inflating: Identifier.csv          \n",
            "  inflating: Appointment.csv         \n"
          ]
        }
      ]
    },
    {
      "cell_type": "code",
      "metadata": {
        "colab": {
          "base_uri": "https://localhost:8080/"
        },
        "id": "fTX-D4rFxiZZ",
        "outputId": "d1def5ad-3fb3-4e12-8ee1-f47b45adb33c"
      },
      "source": [
        "cd.load_entityset(data='kaggle')\n",
        "\n",
        "# to view the loaded entityset\n",
        "cd.es"
      ],
      "execution_count": 6,
      "outputs": [
        {
          "output_type": "execute_result",
          "data": {
            "text/plain": [
              "Entityset: fhir\n",
              "  Entities:\n",
              "    Appointment_Participant [Rows: 6100, Columns: 2]\n",
              "    Address [Rows: 81, Columns: 2]\n",
              "    Identifier [Rows: 227151, Columns: 1]\n",
              "    CodeableConcept [Rows: 4, Columns: 2]\n",
              "    Patient [Rows: 6100, Columns: 4]\n",
              "    Reference [Rows: 6100, Columns: 1]\n",
              "    Coding [Rows: 3, Columns: 2]\n",
              "    Appointment [Rows: 110527, Columns: 5]\n",
              "    Observation [Rows: 110527, Columns: 3]\n",
              "  Relationships:\n",
              "    Appointment_Participant.actor -> Reference.identifier\n",
              "    CodeableConcept.coding -> Coding.object_id\n",
              "    Patient.address -> Address.object_id\n",
              "    Appointment.participant -> Appointment_Participant.object_id\n",
              "    Observation.code -> CodeableConcept.object_id\n",
              "    Observation.subject -> Reference.identifier"
            ]
          },
          "metadata": {},
          "execution_count": 6
        }
      ]
    },
    {
      "cell_type": "code",
      "metadata": {
        "colab": {
          "base_uri": "https://localhost:8080/"
        },
        "id": "P5AaoH8Cxkgi",
        "outputId": "1722230b-d290-4a03-bf35-1cbd6d5a6993"
      },
      "source": [
        "cd.list_problems()"
      ],
      "execution_count": 7,
      "outputs": [
        {
          "output_type": "execute_result",
          "data": {
            "text/plain": [
              "{'DiagnosisPrediction',\n",
              " 'LengthOfStay',\n",
              " 'MissedAppointment',\n",
              " 'MortalityPrediction',\n",
              " 'ProlongedLengthOfStay',\n",
              " 'Readmission'}"
            ]
          },
          "metadata": {},
          "execution_count": 7
        }
      ]
    },
    {
      "cell_type": "code",
      "metadata": {
        "id": "G4zjq-rnxmTL"
      },
      "source": [
        "# select problem\n",
        "label_times = cd.select_problem('MissedAppointment')"
      ],
      "execution_count": 8,
      "outputs": []
    },
    {
      "cell_type": "code",
      "metadata": {
        "colab": {
          "base_uri": "https://localhost:8080/",
          "height": 296
        },
        "id": "ztHigIeZxn1W",
        "outputId": "4da3a137-d266-4c60-e3c0-df2616dbc10b"
      },
      "source": [
        "# feature engineering\n",
        "feature_matrix = cd.generate_features(label_times[:1000]) # takes a while for the full dataset\n",
        "feature_matrix.head(5)"
      ],
      "execution_count": 9,
      "outputs": [
        {
          "output_type": "stream",
          "name": "stdout",
          "text": [
            "Built 13 features\n",
            "Elapsed: 00:34 | Progress: 100%|██████████\n"
          ]
        },
        {
          "output_type": "execute_result",
          "data": {
            "text/html": [
              "<div>\n",
              "<style scoped>\n",
              "    .dataframe tbody tr th:only-of-type {\n",
              "        vertical-align: middle;\n",
              "    }\n",
              "\n",
              "    .dataframe tbody tr th {\n",
              "        vertical-align: top;\n",
              "    }\n",
              "\n",
              "    .dataframe thead th {\n",
              "        text-align: right;\n",
              "    }\n",
              "</style>\n",
              "<table border=\"1\" class=\"dataframe\">\n",
              "  <thead>\n",
              "    <tr style=\"text-align: right;\">\n",
              "      <th></th>\n",
              "      <th>participant = 2680425062</th>\n",
              "      <th>participant = 4275143764</th>\n",
              "      <th>participant = 2615334244</th>\n",
              "      <th>participant = 2410824900</th>\n",
              "      <th>participant = 2406221984</th>\n",
              "      <th>participant = 1868414665</th>\n",
              "      <th>participant = 1692482157</th>\n",
              "      <th>participant = 1125465544</th>\n",
              "      <th>participant = 846537388</th>\n",
              "      <th>participant = 4121228070</th>\n",
              "      <th>participant is unknown</th>\n",
              "      <th>DAY(created) = 29</th>\n",
              "      <th>DAY(created) = 28</th>\n",
              "      <th>DAY(created) = 27</th>\n",
              "      <th>DAY(created) = 18</th>\n",
              "      <th>DAY(created) = 15</th>\n",
              "      <th>DAY(created) = 26</th>\n",
              "      <th>DAY(created) = 25</th>\n",
              "      <th>DAY(created) = 5</th>\n",
              "      <th>DAY(created) = 1</th>\n",
              "      <th>DAY(created) = 8</th>\n",
              "      <th>DAY(created) is unknown</th>\n",
              "      <th>DAY(start) = 29</th>\n",
              "      <th>DAY(start) is unknown</th>\n",
              "      <th>IS_WEEKEND(created)</th>\n",
              "      <th>IS_WEEKEND(start)</th>\n",
              "      <th>MONTH(created) = 4</th>\n",
              "      <th>MONTH(created) = 3</th>\n",
              "      <th>MONTH(created) = 2</th>\n",
              "      <th>MONTH(created) = 1</th>\n",
              "      <th>MONTH(created) is unknown</th>\n",
              "      <th>MONTH(start) = 4</th>\n",
              "      <th>MONTH(start) is unknown</th>\n",
              "      <th>WEEKDAY(created) = 4</th>\n",
              "      <th>WEEKDAY(created) = 2</th>\n",
              "      <th>WEEKDAY(created) = 1</th>\n",
              "      <th>WEEKDAY(created) = 3</th>\n",
              "      <th>WEEKDAY(created) = 0</th>\n",
              "      <th>WEEKDAY(created) is unknown</th>\n",
              "      <th>WEEKDAY(start) = 4</th>\n",
              "      <th>WEEKDAY(start) is unknown</th>\n",
              "      <th>YEAR(created) = 2016</th>\n",
              "      <th>YEAR(created) is unknown</th>\n",
              "      <th>YEAR(start) = 2016</th>\n",
              "      <th>YEAR(start) is unknown</th>\n",
              "      <th>Appointment_Participant.actor = 74200000000000</th>\n",
              "      <th>Appointment_Participant.actor = 713000000000000</th>\n",
              "      <th>Appointment_Participant.actor = 41400000000000</th>\n",
              "      <th>Appointment_Participant.actor = 28200000000000</th>\n",
              "      <th>Appointment_Participant.actor = 7270000000000</th>\n",
              "      <th>Appointment_Participant.actor = 7230000000000</th>\n",
              "      <th>Appointment_Participant.actor = 4920000000000</th>\n",
              "      <th>Appointment_Participant.actor = 3880000000000</th>\n",
              "      <th>Appointment_Participant.actor = 2760000000000</th>\n",
              "      <th>Appointment_Participant.actor = 735000000000000</th>\n",
              "      <th>Appointment_Participant.actor is unknown</th>\n",
              "      <th>Appointment_Participant.COUNT(Appointment)</th>\n",
              "      <th>label</th>\n",
              "    </tr>\n",
              "  </thead>\n",
              "  <tbody>\n",
              "    <tr>\n",
              "      <th>0</th>\n",
              "      <td>False</td>\n",
              "      <td>False</td>\n",
              "      <td>False</td>\n",
              "      <td>False</td>\n",
              "      <td>False</td>\n",
              "      <td>False</td>\n",
              "      <td>False</td>\n",
              "      <td>False</td>\n",
              "      <td>False</td>\n",
              "      <td>False</td>\n",
              "      <td>True</td>\n",
              "      <td>True</td>\n",
              "      <td>False</td>\n",
              "      <td>False</td>\n",
              "      <td>False</td>\n",
              "      <td>False</td>\n",
              "      <td>False</td>\n",
              "      <td>False</td>\n",
              "      <td>False</td>\n",
              "      <td>False</td>\n",
              "      <td>False</td>\n",
              "      <td>False</td>\n",
              "      <td>True</td>\n",
              "      <td>False</td>\n",
              "      <td>False</td>\n",
              "      <td>False</td>\n",
              "      <td>True</td>\n",
              "      <td>False</td>\n",
              "      <td>False</td>\n",
              "      <td>False</td>\n",
              "      <td>False</td>\n",
              "      <td>True</td>\n",
              "      <td>False</td>\n",
              "      <td>True</td>\n",
              "      <td>False</td>\n",
              "      <td>False</td>\n",
              "      <td>False</td>\n",
              "      <td>False</td>\n",
              "      <td>False</td>\n",
              "      <td>True</td>\n",
              "      <td>False</td>\n",
              "      <td>True</td>\n",
              "      <td>False</td>\n",
              "      <td>True</td>\n",
              "      <td>False</td>\n",
              "      <td>False</td>\n",
              "      <td>False</td>\n",
              "      <td>False</td>\n",
              "      <td>False</td>\n",
              "      <td>False</td>\n",
              "      <td>False</td>\n",
              "      <td>False</td>\n",
              "      <td>False</td>\n",
              "      <td>False</td>\n",
              "      <td>False</td>\n",
              "      <td>True</td>\n",
              "      <td>39</td>\n",
              "      <td>noshow</td>\n",
              "    </tr>\n",
              "    <tr>\n",
              "      <th>1</th>\n",
              "      <td>False</td>\n",
              "      <td>False</td>\n",
              "      <td>False</td>\n",
              "      <td>False</td>\n",
              "      <td>False</td>\n",
              "      <td>False</td>\n",
              "      <td>False</td>\n",
              "      <td>False</td>\n",
              "      <td>False</td>\n",
              "      <td>False</td>\n",
              "      <td>True</td>\n",
              "      <td>True</td>\n",
              "      <td>False</td>\n",
              "      <td>False</td>\n",
              "      <td>False</td>\n",
              "      <td>False</td>\n",
              "      <td>False</td>\n",
              "      <td>False</td>\n",
              "      <td>False</td>\n",
              "      <td>False</td>\n",
              "      <td>False</td>\n",
              "      <td>False</td>\n",
              "      <td>True</td>\n",
              "      <td>False</td>\n",
              "      <td>False</td>\n",
              "      <td>False</td>\n",
              "      <td>True</td>\n",
              "      <td>False</td>\n",
              "      <td>False</td>\n",
              "      <td>False</td>\n",
              "      <td>False</td>\n",
              "      <td>True</td>\n",
              "      <td>False</td>\n",
              "      <td>True</td>\n",
              "      <td>False</td>\n",
              "      <td>False</td>\n",
              "      <td>False</td>\n",
              "      <td>False</td>\n",
              "      <td>False</td>\n",
              "      <td>True</td>\n",
              "      <td>False</td>\n",
              "      <td>True</td>\n",
              "      <td>False</td>\n",
              "      <td>True</td>\n",
              "      <td>False</td>\n",
              "      <td>False</td>\n",
              "      <td>False</td>\n",
              "      <td>False</td>\n",
              "      <td>False</td>\n",
              "      <td>False</td>\n",
              "      <td>False</td>\n",
              "      <td>False</td>\n",
              "      <td>False</td>\n",
              "      <td>False</td>\n",
              "      <td>False</td>\n",
              "      <td>True</td>\n",
              "      <td>27</td>\n",
              "      <td>noshow</td>\n",
              "    </tr>\n",
              "    <tr>\n",
              "      <th>2</th>\n",
              "      <td>False</td>\n",
              "      <td>False</td>\n",
              "      <td>False</td>\n",
              "      <td>False</td>\n",
              "      <td>False</td>\n",
              "      <td>False</td>\n",
              "      <td>False</td>\n",
              "      <td>False</td>\n",
              "      <td>False</td>\n",
              "      <td>False</td>\n",
              "      <td>True</td>\n",
              "      <td>True</td>\n",
              "      <td>False</td>\n",
              "      <td>False</td>\n",
              "      <td>False</td>\n",
              "      <td>False</td>\n",
              "      <td>False</td>\n",
              "      <td>False</td>\n",
              "      <td>False</td>\n",
              "      <td>False</td>\n",
              "      <td>False</td>\n",
              "      <td>False</td>\n",
              "      <td>True</td>\n",
              "      <td>False</td>\n",
              "      <td>False</td>\n",
              "      <td>False</td>\n",
              "      <td>True</td>\n",
              "      <td>False</td>\n",
              "      <td>False</td>\n",
              "      <td>False</td>\n",
              "      <td>False</td>\n",
              "      <td>True</td>\n",
              "      <td>False</td>\n",
              "      <td>True</td>\n",
              "      <td>False</td>\n",
              "      <td>False</td>\n",
              "      <td>False</td>\n",
              "      <td>False</td>\n",
              "      <td>False</td>\n",
              "      <td>True</td>\n",
              "      <td>False</td>\n",
              "      <td>True</td>\n",
              "      <td>False</td>\n",
              "      <td>True</td>\n",
              "      <td>False</td>\n",
              "      <td>False</td>\n",
              "      <td>False</td>\n",
              "      <td>False</td>\n",
              "      <td>False</td>\n",
              "      <td>False</td>\n",
              "      <td>False</td>\n",
              "      <td>False</td>\n",
              "      <td>False</td>\n",
              "      <td>False</td>\n",
              "      <td>False</td>\n",
              "      <td>True</td>\n",
              "      <td>55</td>\n",
              "      <td>noshow</td>\n",
              "    </tr>\n",
              "    <tr>\n",
              "      <th>3</th>\n",
              "      <td>False</td>\n",
              "      <td>False</td>\n",
              "      <td>False</td>\n",
              "      <td>False</td>\n",
              "      <td>False</td>\n",
              "      <td>False</td>\n",
              "      <td>False</td>\n",
              "      <td>False</td>\n",
              "      <td>False</td>\n",
              "      <td>False</td>\n",
              "      <td>True</td>\n",
              "      <td>True</td>\n",
              "      <td>False</td>\n",
              "      <td>False</td>\n",
              "      <td>False</td>\n",
              "      <td>False</td>\n",
              "      <td>False</td>\n",
              "      <td>False</td>\n",
              "      <td>False</td>\n",
              "      <td>False</td>\n",
              "      <td>False</td>\n",
              "      <td>False</td>\n",
              "      <td>True</td>\n",
              "      <td>False</td>\n",
              "      <td>False</td>\n",
              "      <td>False</td>\n",
              "      <td>True</td>\n",
              "      <td>False</td>\n",
              "      <td>False</td>\n",
              "      <td>False</td>\n",
              "      <td>False</td>\n",
              "      <td>True</td>\n",
              "      <td>False</td>\n",
              "      <td>True</td>\n",
              "      <td>False</td>\n",
              "      <td>False</td>\n",
              "      <td>False</td>\n",
              "      <td>False</td>\n",
              "      <td>False</td>\n",
              "      <td>True</td>\n",
              "      <td>False</td>\n",
              "      <td>True</td>\n",
              "      <td>False</td>\n",
              "      <td>True</td>\n",
              "      <td>False</td>\n",
              "      <td>False</td>\n",
              "      <td>False</td>\n",
              "      <td>False</td>\n",
              "      <td>False</td>\n",
              "      <td>False</td>\n",
              "      <td>False</td>\n",
              "      <td>False</td>\n",
              "      <td>False</td>\n",
              "      <td>False</td>\n",
              "      <td>False</td>\n",
              "      <td>True</td>\n",
              "      <td>39</td>\n",
              "      <td>noshow</td>\n",
              "    </tr>\n",
              "    <tr>\n",
              "      <th>4</th>\n",
              "      <td>False</td>\n",
              "      <td>False</td>\n",
              "      <td>False</td>\n",
              "      <td>False</td>\n",
              "      <td>False</td>\n",
              "      <td>False</td>\n",
              "      <td>False</td>\n",
              "      <td>False</td>\n",
              "      <td>False</td>\n",
              "      <td>False</td>\n",
              "      <td>True</td>\n",
              "      <td>True</td>\n",
              "      <td>False</td>\n",
              "      <td>False</td>\n",
              "      <td>False</td>\n",
              "      <td>False</td>\n",
              "      <td>False</td>\n",
              "      <td>False</td>\n",
              "      <td>False</td>\n",
              "      <td>False</td>\n",
              "      <td>False</td>\n",
              "      <td>False</td>\n",
              "      <td>True</td>\n",
              "      <td>False</td>\n",
              "      <td>False</td>\n",
              "      <td>False</td>\n",
              "      <td>True</td>\n",
              "      <td>False</td>\n",
              "      <td>False</td>\n",
              "      <td>False</td>\n",
              "      <td>False</td>\n",
              "      <td>True</td>\n",
              "      <td>False</td>\n",
              "      <td>True</td>\n",
              "      <td>False</td>\n",
              "      <td>False</td>\n",
              "      <td>False</td>\n",
              "      <td>False</td>\n",
              "      <td>False</td>\n",
              "      <td>True</td>\n",
              "      <td>False</td>\n",
              "      <td>True</td>\n",
              "      <td>False</td>\n",
              "      <td>True</td>\n",
              "      <td>False</td>\n",
              "      <td>False</td>\n",
              "      <td>False</td>\n",
              "      <td>False</td>\n",
              "      <td>False</td>\n",
              "      <td>False</td>\n",
              "      <td>False</td>\n",
              "      <td>False</td>\n",
              "      <td>False</td>\n",
              "      <td>False</td>\n",
              "      <td>False</td>\n",
              "      <td>True</td>\n",
              "      <td>28</td>\n",
              "      <td>noshow</td>\n",
              "    </tr>\n",
              "  </tbody>\n",
              "</table>\n",
              "</div>"
            ],
            "text/plain": [
              "   participant = 2680425062  ...   label\n",
              "0                     False  ...  noshow\n",
              "1                     False  ...  noshow\n",
              "2                     False  ...  noshow\n",
              "3                     False  ...  noshow\n",
              "4                     False  ...  noshow\n",
              "\n",
              "[5 rows x 58 columns]"
            ]
          },
          "metadata": {},
          "execution_count": 9
        }
      ]
    },
    {
      "cell_type": "code",
      "metadata": {
        "id": "NJSdjm13xqtD"
      },
      "source": [
        "# shuffle the dataframe\n",
        "feature_matrix = feature_matrix.sample(frac=1)\n",
        "\n",
        "# pop the target labels\n",
        "y = list(feature_matrix.pop('label'))\n",
        "X = feature_matrix.values\n",
        "\n",
        "X_train, X_test, y_train, y_test = cd.train_test_split(X, y, test_size=0.2, shuffle=True)"
      ],
      "execution_count": 10,
      "outputs": []
    },
    {
      "cell_type": "markdown",
      "metadata": {
        "id": "6IJM6wx_WMR0"
      },
      "source": [
        "# **Pengujian Pipeline**"
      ]
    },
    {
      "cell_type": "markdown",
      "metadata": {
        "id": "K7w1ohKYWVC6"
      },
      "source": [
        "##**Modeling**"
      ]
    },
    {
      "cell_type": "code",
      "metadata": {
        "id": "J17miH1mxsjc"
      },
      "source": [
        "cd.select_pipeline('Random Forest')\n",
        "cd.fit(X_train, y_train)\n",
        "# y_pred = cd.predict(X_test) # Dijadikan komentar karena keberadaannya terdapat pada baris code asli milik Author, namun tidak memengaruhi baris code dari hasil modifikasi"
      ],
      "execution_count": 11,
      "outputs": []
    },
    {
      "cell_type": "code",
      "metadata": {
        "colab": {
          "base_uri": "https://localhost:8080/"
        },
        "id": "mgp8x_4ExtZJ",
        "outputId": "322dbe65-9269-408f-c3ec-f06b74b8eacc"
      },
      "source": [
        "cd.evaluate(X_test, y_test, test_size=0.2, shuffle=True)"
      ],
      "execution_count": 12,
      "outputs": [
        {
          "output_type": "execute_result",
          "data": {
            "text/plain": [
              "{'Accuracy': 0.7, 'Confusion Matrix': array([[ 1,  6],\n",
              "        [ 6, 27]]), 'F1 Macro': 0.48051948051948057, 'Precision': 0.48051948051948057, 'Recall': 0.48051948051948057}"
            ]
          },
          "metadata": {},
          "execution_count": 12
        }
      ]
    },
    {
      "cell_type": "markdown",
      "metadata": {
        "id": "JmqS5OjmWcNS"
      },
      "source": [
        "## **Modeling 1**"
      ]
    },
    {
      "cell_type": "code",
      "metadata": {
        "id": "aWJGfBqMxu51"
      },
      "source": [
        "cd.select_pipeline('Logistic Regression')\n",
        "cd.fit(X_train, y_train)\n",
        "# y_pred = cd.predict(X_test) # Dijadikan komentar karena keberadaannya terdapat pada baris code asli milik Author, namun tidak memengaruhi baris code dari hasil modifikasi"
      ],
      "execution_count": 13,
      "outputs": []
    },
    {
      "cell_type": "code",
      "metadata": {
        "colab": {
          "base_uri": "https://localhost:8080/"
        },
        "id": "G3lGFOBexwYq",
        "outputId": "8deeac63-aa76-4509-d7ca-fa3000b11dfa"
      },
      "source": [
        "cd.evaluate(X_test, y_test, test_size=0.2, shuffle=True)"
      ],
      "execution_count": 14,
      "outputs": [
        {
          "output_type": "execute_result",
          "data": {
            "text/plain": [
              "{'Accuracy': 0.775, 'Confusion Matrix': array([[ 0,  9],\n",
              "        [ 0, 31]]), 'F1 Macro': 0.4366197183098592, 'Precision': 0.3875, 'Recall': 0.5}"
            ]
          },
          "metadata": {},
          "execution_count": 14
        }
      ]
    },
    {
      "cell_type": "markdown",
      "metadata": {
        "id": "50lpHKv0W_gr"
      },
      "source": [
        "## **Modeling 2**"
      ]
    },
    {
      "cell_type": "code",
      "metadata": {
        "id": "5isjwHevwsEZ"
      },
      "source": [
        "cd.select_pipeline('Gaussian Naive Bayes')\n",
        "cd.fit(X_train, y_train)\n",
        "# y_pred = cd.predict(X_test) # Dijadikan komentar karena keberadaannya terdapat pada baris code asli milik Author, namun tidak memengaruhi baris code dari hasil modifikasi"
      ],
      "execution_count": 15,
      "outputs": []
    },
    {
      "cell_type": "code",
      "metadata": {
        "colab": {
          "base_uri": "https://localhost:8080/"
        },
        "id": "5KD7T-PkwsEd",
        "outputId": "7ae17dec-6545-499a-b529-fd1b60897f11"
      },
      "source": [
        "cd.evaluate(X_test, y_test, test_size=0.2, shuffle=True)"
      ],
      "execution_count": 16,
      "outputs": [
        {
          "output_type": "execute_result",
          "data": {
            "text/plain": [
              "{'Accuracy': 0.3, 'Confusion Matrix': array([[ 8,  2],\n",
              "        [26,  4]]), 'F1 Macro': 0.29292929292929293, 'Precision': 0.4509803921568627, 'Recall': 0.4666666666666667}"
            ]
          },
          "metadata": {},
          "execution_count": 16
        }
      ]
    },
    {
      "cell_type": "markdown",
      "metadata": {
        "id": "134UJkSnXEaK"
      },
      "source": [
        "## **Modeling 3**"
      ]
    },
    {
      "cell_type": "code",
      "metadata": {
        "id": "oJAsUsQRwszz"
      },
      "source": [
        "cd.select_pipeline('Gradient Boosting')\n",
        "cd.fit(X_train, y_train)\n",
        "# y_pred = cd.predict(X_test) # Dijadikan komentar karena keberadaannya terdapat pada baris code asli milik Author, namun tidak memengaruhi baris code dari hasil modifikasi"
      ],
      "execution_count": 17,
      "outputs": []
    },
    {
      "cell_type": "code",
      "metadata": {
        "colab": {
          "base_uri": "https://localhost:8080/"
        },
        "id": "zHuJqMfHwzmx",
        "outputId": "986d0cc8-ad66-446b-f9b0-73c47915e292"
      },
      "source": [
        "cd.evaluate(X_test, y_test, test_size=0.2, shuffle=True)"
      ],
      "execution_count": 18,
      "outputs": [
        {
          "output_type": "execute_result",
          "data": {
            "text/plain": [
              "{'Accuracy': 0.9, 'Confusion Matrix': array([[ 0,  3],\n",
              "        [ 1, 36]]), 'F1 Macro': 0.47368421052631576, 'Precision': 0.46153846153846156, 'Recall': 0.4864864864864865}"
            ]
          },
          "metadata": {},
          "execution_count": 18
        }
      ]
    },
    {
      "cell_type": "markdown",
      "metadata": {
        "id": "XrYEdBqPXIh7"
      },
      "source": [
        "## **Modeling 4**"
      ]
    },
    {
      "cell_type": "code",
      "metadata": {
        "id": "kxTZ_oawwvkr"
      },
      "source": [
        "cd.select_pipeline('K-Nearest Neightbors')\n",
        "cd.fit(X_train, y_train)\n",
        "# y_pred = cd.predict(X_test) # Dijadikan komentar karena keberadaannya terdapat pada baris code asli milik Author, namun tidak memengaruhi baris code dari hasil modifikasi"
      ],
      "execution_count": 19,
      "outputs": []
    },
    {
      "cell_type": "code",
      "metadata": {
        "colab": {
          "base_uri": "https://localhost:8080/"
        },
        "id": "e4jF_Oo6wsz0",
        "outputId": "22b61f00-b295-48af-8ddf-3d77e07d7119"
      },
      "source": [
        "cd.evaluate(X_test, y_test, test_size=0.2, shuffle=True)"
      ],
      "execution_count": 20,
      "outputs": [
        {
          "output_type": "execute_result",
          "data": {
            "text/plain": [
              "{'Accuracy': 0.7, 'Confusion Matrix': array([[ 0,  9],\n",
              "        [ 3, 28]]), 'F1 Macro': 0.411764705882353, 'Precision': 0.3783783783783784, 'Recall': 0.45161290322580644}"
            ]
          },
          "metadata": {},
          "execution_count": 20
        }
      ]
    },
    {
      "cell_type": "markdown",
      "metadata": {
        "id": "ZndANxkzXPOc"
      },
      "source": [
        "## **Modeling 5**"
      ]
    },
    {
      "cell_type": "code",
      "metadata": {
        "id": "MlmYmSC2w9pp"
      },
      "source": [
        "cd.select_pipeline('Multinomial Naive Bayes')\n",
        "cd.fit(X_train, y_train)\n",
        "# y_pred = cd.predict(X_test) # Dijadikan komentar karena keberadaannya terdapat pada baris code asli milik Author, namun tidak memengaruhi baris code dari hasil modifikasi"
      ],
      "execution_count": 21,
      "outputs": []
    },
    {
      "cell_type": "code",
      "metadata": {
        "colab": {
          "base_uri": "https://localhost:8080/"
        },
        "id": "e37yogBfw9pq",
        "outputId": "144636af-2865-4a16-f727-ef954173feb8"
      },
      "source": [
        "cd.evaluate(X_test, y_test, test_size=0.2, shuffle=True)"
      ],
      "execution_count": 22,
      "outputs": [
        {
          "output_type": "execute_result",
          "data": {
            "text/plain": [
              "{'Accuracy': 0.725, 'Confusion Matrix': array([[ 1,  6],\n",
              "        [ 5, 28]]), 'F1 Macro': 0.494833524684271, 'Precision': 0.49509803921568624, 'Recall': 0.4956709956709957}"
            ]
          },
          "metadata": {},
          "execution_count": 22
        }
      ]
    },
    {
      "cell_type": "markdown",
      "metadata": {
        "id": "N2HHX2ZGXZsy"
      },
      "source": [
        "## **Modeling 6**"
      ]
    },
    {
      "cell_type": "code",
      "metadata": {
        "id": "LYGzp83tw_SE"
      },
      "source": [
        "# modeling6\n",
        "cd.select_pipeline('Stochastic Gradient Descent')\n",
        "cd.fit(X_train, y_train)\n",
        "# y_pred = cd.predict(X_test) # Dijadikan komentar karena keberadaannya terdapat pada baris code asli milik Author, namun tidak memengaruhi baris code dari hasil modifikasi"
      ],
      "execution_count": 23,
      "outputs": []
    },
    {
      "cell_type": "code",
      "metadata": {
        "colab": {
          "base_uri": "https://localhost:8080/"
        },
        "id": "RGAS2JLOw_SE",
        "outputId": "3cdcf0e7-6e07-443f-beb2-214c793ed1ca"
      },
      "source": [
        "cd.evaluate(X_test, y_test, test_size=0.2, shuffle=True)"
      ],
      "execution_count": 24,
      "outputs": [
        {
          "output_type": "execute_result",
          "data": {
            "text/plain": [
              "{'Accuracy': 0.85, 'Confusion Matrix': array([[ 2,  4],\n",
              "        [ 2, 32]]), 'F1 Macro': 0.6571428571428571, 'Precision': 0.6944444444444444, 'Recall': 0.6372549019607843}"
            ]
          },
          "metadata": {},
          "execution_count": 24
        }
      ]
    },
    {
      "cell_type": "markdown",
      "metadata": {
        "id": "usbqqs2UXjJq"
      },
      "source": [
        "## **Modeling 7**"
      ]
    },
    {
      "cell_type": "code",
      "metadata": {
        "id": "kLybGfWExOEC"
      },
      "source": [
        "# modeling7\n",
        "cd.select_pipeline('XGB')\n",
        "cd.fit(X_train, y_train)\n",
        "# y_pred = cd.predict(X_test) # Dijadikan komentar karena keberadaannya terdapat pada baris code asli milik Author, namun tidak memengaruhi baris code dari hasil modifikasi"
      ],
      "execution_count": 25,
      "outputs": []
    },
    {
      "cell_type": "code",
      "metadata": {
        "colab": {
          "base_uri": "https://localhost:8080/"
        },
        "id": "bJngrVqmxOED",
        "outputId": "7bb3cd41-c7de-4666-f418-ad61f57710ef"
      },
      "source": [
        "cd.evaluate(X_test, y_test, test_size=0.2, shuffle=True)"
      ],
      "execution_count": 26,
      "outputs": [
        {
          "output_type": "execute_result",
          "data": {
            "text/plain": [
              "{'Accuracy': 0.75, 'Confusion Matrix': array([[ 0,  8],\n",
              "        [ 2, 30]]), 'F1 Macro': 0.4285714285714286, 'Precision': 0.39473684210526316, 'Recall': 0.46875}"
            ]
          },
          "metadata": {},
          "execution_count": 26
        }
      ]
    },
    {
      "cell_type": "markdown",
      "metadata": {
        "id": "WMYoAARUXpji"
      },
      "source": [
        "# **Inisiasi Hyperparameter**"
      ]
    },
    {
      "cell_type": "code",
      "metadata": {
        "id": "VkMTjJHLEgFD"
      },
      "source": [
        "param_rf = {'criterion': [\"gini\",\"entropy\"], 'n_estimators': [10, 100, 1000]} # Hyperparameter Random Forest\n",
        "param_lr = {'C': np.logspace(-3,3,5,7), 'penalty': [\"l1\",\"l2\"], 'fit_intercept': [\"True\", \"False\"]} # Hyperparameter Logistic Regression\n",
        "param_gnb = {'var_smoothing': [1e-9]} # Hyperparameter Gaussian Naive Bayes\n",
        "param_gb = {'learning_rate': [0.001, 0.01, 0.1, 0.3], 'n_estimators': [10, 100, 1000]} #Hyperparameter Gradient Boosting\n",
        "param_knn = {'n_neighbors': [5], 'weights': ['uniform', 'distance'], 'algorithm': ['auto', 'ball_tree', 'kd_tree', 'brute']} # Hyperparameter K-Nearest Neighbors\n",
        "param_mnb = {'alpha': [1.0, 0.01, 0.001], \"fit_prior\": ['True', 'False']} # Hyperparameter Multinomial Naive Bayes\n",
        "param_sgd = {'loss': ['hinge', 'log', 'modified_huber', 'squared_hinge', 'perceptron', 'huber', 'epsilon_insensitive', 'squared_epsilon_insensitive'], 'penalty': ['l2', 'l1', 'elasticnet']} # Hyperparameter Stochastic Gradient Descent\n",
        "param_xgb = {'booster': ['gbtree', 'gblinear']} # Hyperparameter XGboost"
      ],
      "execution_count": 27,
      "outputs": []
    },
    {
      "cell_type": "markdown",
      "metadata": {
        "id": "Ew0zXkvoXzHa"
      },
      "source": [
        "# **Implementasi Grid Search**"
      ]
    },
    {
      "cell_type": "markdown",
      "metadata": {
        "id": "ttyzp6FmX4ID"
      },
      "source": [
        "## **Grid Search Random Forest**"
      ]
    },
    {
      "cell_type": "code",
      "metadata": {
        "colab": {
          "base_uri": "https://localhost:8080/"
        },
        "id": "T6PXr8nsTgOp",
        "outputId": "dba70e86-5b7d-4be1-e5fa-f307c279948e"
      },
      "source": [
        "gridsearch = GridSearchCV(RandomForestClassifier(), param_rf, scoring='accuracy')\n",
        "gridsearch.fit(X_train, y_train)"
      ],
      "execution_count": 28,
      "outputs": [
        {
          "output_type": "execute_result",
          "data": {
            "text/plain": [
              "GridSearchCV(cv='warn', error_score='raise-deprecating',\n",
              "             estimator=RandomForestClassifier(bootstrap=True, class_weight=None,\n",
              "                                              criterion='gini', max_depth=None,\n",
              "                                              max_features='auto',\n",
              "                                              max_leaf_nodes=None,\n",
              "                                              min_impurity_decrease=0.0,\n",
              "                                              min_impurity_split=None,\n",
              "                                              min_samples_leaf=1,\n",
              "                                              min_samples_split=2,\n",
              "                                              min_weight_fraction_leaf=0.0,\n",
              "                                              n_estimators='warn', n_jobs=None,\n",
              "                                              oob_score=False,\n",
              "                                              random_state=None, verbose=0,\n",
              "                                              warm_start=False),\n",
              "             iid='warn', n_jobs=None,\n",
              "             param_grid={'criterion': ['gini', 'entropy'],\n",
              "                         'n_estimators': [10, 100, 1000]},\n",
              "             pre_dispatch='2*n_jobs', refit=True, return_train_score=False,\n",
              "             scoring='accuracy', verbose=0)"
            ]
          },
          "metadata": {},
          "execution_count": 28
        }
      ]
    },
    {
      "cell_type": "markdown",
      "metadata": {
        "id": "52vJ0YcVX9qx"
      },
      "source": [
        "## **Grid Search Logistic Regression**"
      ]
    },
    {
      "cell_type": "code",
      "metadata": {
        "colab": {
          "base_uri": "https://localhost:8080/"
        },
        "id": "FilpFXsHzBHI",
        "outputId": "5ea73ed5-523d-4d7a-dbbf-9fa7f2e85477"
      },
      "source": [
        "gridsearch1 = GridSearchCV(LogisticRegression(), param_lr, scoring='accuracy')\n",
        "gridsearch1.fit(X_train, y_train)"
      ],
      "execution_count": 29,
      "outputs": [
        {
          "output_type": "execute_result",
          "data": {
            "text/plain": [
              "GridSearchCV(cv='warn', error_score='raise-deprecating',\n",
              "             estimator=LogisticRegression(C=1.0, class_weight=None, dual=False,\n",
              "                                          fit_intercept=True,\n",
              "                                          intercept_scaling=1, l1_ratio=None,\n",
              "                                          max_iter=100, multi_class='warn',\n",
              "                                          n_jobs=None, penalty='l2',\n",
              "                                          random_state=None, solver='warn',\n",
              "                                          tol=0.0001, verbose=0,\n",
              "                                          warm_start=False),\n",
              "             iid='warn', n_jobs=None,\n",
              "             param_grid={'C': array([1.00000000e-03, 3.16227766e-02, 1.00000000e+00, 3.16227766e+01,\n",
              "       1.00000000e+03]),\n",
              "                         'fit_intercept': ['True', 'False'],\n",
              "                         'penalty': ['l1', 'l2']},\n",
              "             pre_dispatch='2*n_jobs', refit=True, return_train_score=False,\n",
              "             scoring='accuracy', verbose=0)"
            ]
          },
          "metadata": {},
          "execution_count": 29
        }
      ]
    },
    {
      "cell_type": "markdown",
      "metadata": {
        "id": "L__ZnqjcY5vx"
      },
      "source": [
        "## **Grid Search Gaussian Naive Bayes**"
      ]
    },
    {
      "cell_type": "code",
      "metadata": {
        "colab": {
          "base_uri": "https://localhost:8080/"
        },
        "id": "p1UFgDUjccyb",
        "outputId": "e0c50366-6660-468c-f994-a2d88b4ccc26"
      },
      "source": [
        "gridsearch2 = GridSearchCV(GaussianNB(), param_gnb, scoring='accuracy')\n",
        "gridsearch2.fit(X_train, y_train)"
      ],
      "execution_count": 30,
      "outputs": [
        {
          "output_type": "execute_result",
          "data": {
            "text/plain": [
              "GridSearchCV(cv='warn', error_score='raise-deprecating',\n",
              "             estimator=GaussianNB(priors=None, var_smoothing=1e-09), iid='warn',\n",
              "             n_jobs=None, param_grid={'var_smoothing': [1e-09]},\n",
              "             pre_dispatch='2*n_jobs', refit=True, return_train_score=False,\n",
              "             scoring='accuracy', verbose=0)"
            ]
          },
          "metadata": {},
          "execution_count": 30
        }
      ]
    },
    {
      "cell_type": "markdown",
      "metadata": {
        "id": "XoXdghdGY_96"
      },
      "source": [
        "## **Grid Search Gradient Boosting**"
      ]
    },
    {
      "cell_type": "code",
      "metadata": {
        "colab": {
          "base_uri": "https://localhost:8080/"
        },
        "id": "__XSn_ZtMkw7",
        "outputId": "69af87db-792d-4a1f-dacd-f16bf0cd5710"
      },
      "source": [
        "gridsearch3 = GridSearchCV(GradientBoostingClassifier(), param_gb, scoring='accuracy')\n",
        "gridsearch3.fit(X_train, y_train)"
      ],
      "execution_count": 31,
      "outputs": [
        {
          "output_type": "execute_result",
          "data": {
            "text/plain": [
              "GridSearchCV(cv='warn', error_score='raise-deprecating',\n",
              "             estimator=GradientBoostingClassifier(criterion='friedman_mse',\n",
              "                                                  init=None, learning_rate=0.1,\n",
              "                                                  loss='deviance', max_depth=3,\n",
              "                                                  max_features=None,\n",
              "                                                  max_leaf_nodes=None,\n",
              "                                                  min_impurity_decrease=0.0,\n",
              "                                                  min_impurity_split=None,\n",
              "                                                  min_samples_leaf=1,\n",
              "                                                  min_samples_split=2,\n",
              "                                                  min_weight_fraction_leaf=0.0,\n",
              "                                                  n_estimators=100,\n",
              "                                                  n_iter_no_change=None,\n",
              "                                                  presort='auto',\n",
              "                                                  random_state=None,\n",
              "                                                  subsample=1.0, tol=0.0001,\n",
              "                                                  validation_fraction=0.1,\n",
              "                                                  verbose=0, warm_start=False),\n",
              "             iid='warn', n_jobs=None,\n",
              "             param_grid={'learning_rate': [0.001, 0.01, 0.1, 0.3],\n",
              "                         'n_estimators': [10, 100, 1000]},\n",
              "             pre_dispatch='2*n_jobs', refit=True, return_train_score=False,\n",
              "             scoring='accuracy', verbose=0)"
            ]
          },
          "metadata": {},
          "execution_count": 31
        }
      ]
    },
    {
      "cell_type": "markdown",
      "metadata": {
        "id": "vEqqLnfuZDTK"
      },
      "source": [
        "## **Grid Search K-Nearest Neightbors**"
      ]
    },
    {
      "cell_type": "code",
      "metadata": {
        "colab": {
          "base_uri": "https://localhost:8080/"
        },
        "id": "i2LBBrkC5gBd",
        "outputId": "74acf715-f4d4-413b-afe0-0e5e78d32bfd"
      },
      "source": [
        "gridsearch4 = GridSearchCV(KNeighborsClassifier(), param_knn, scoring='accuracy')\n",
        "gridsearch4.fit(X_train, y_train)"
      ],
      "execution_count": 32,
      "outputs": [
        {
          "output_type": "execute_result",
          "data": {
            "text/plain": [
              "GridSearchCV(cv='warn', error_score='raise-deprecating',\n",
              "             estimator=KNeighborsClassifier(algorithm='auto', leaf_size=30,\n",
              "                                            metric='minkowski',\n",
              "                                            metric_params=None, n_jobs=None,\n",
              "                                            n_neighbors=5, p=2,\n",
              "                                            weights='uniform'),\n",
              "             iid='warn', n_jobs=None,\n",
              "             param_grid={'algorithm': ['auto', 'ball_tree', 'kd_tree', 'brute'],\n",
              "                         'n_neighbors': [5],\n",
              "                         'weights': ['uniform', 'distance']},\n",
              "             pre_dispatch='2*n_jobs', refit=True, return_train_score=False,\n",
              "             scoring='accuracy', verbose=0)"
            ]
          },
          "metadata": {},
          "execution_count": 32
        }
      ]
    },
    {
      "cell_type": "markdown",
      "metadata": {
        "id": "FqLT4yWAZHIB"
      },
      "source": [
        "## **Grid Search Multinomial Naive Bayes**"
      ]
    },
    {
      "cell_type": "code",
      "metadata": {
        "colab": {
          "base_uri": "https://localhost:8080/"
        },
        "id": "CflWts8U4w1q",
        "outputId": "55a3f8d2-986f-469b-c12a-4b20dd063a1c"
      },
      "source": [
        "gridsearch5 = GridSearchCV(MultinomialNB(), param_mnb, scoring='accuracy')\n",
        "gridsearch5.fit(X_train, y_train)"
      ],
      "execution_count": 33,
      "outputs": [
        {
          "output_type": "execute_result",
          "data": {
            "text/plain": [
              "GridSearchCV(cv='warn', error_score='raise-deprecating',\n",
              "             estimator=MultinomialNB(alpha=1.0, class_prior=None,\n",
              "                                     fit_prior=True),\n",
              "             iid='warn', n_jobs=None,\n",
              "             param_grid={'alpha': [1.0, 0.01, 0.001],\n",
              "                         'fit_prior': ['True', 'False']},\n",
              "             pre_dispatch='2*n_jobs', refit=True, return_train_score=False,\n",
              "             scoring='accuracy', verbose=0)"
            ]
          },
          "metadata": {},
          "execution_count": 33
        }
      ]
    },
    {
      "cell_type": "markdown",
      "metadata": {
        "id": "WEj2qb-0ZLgL"
      },
      "source": [
        "## **Grid Search Stochastic Gradient Descent**"
      ]
    },
    {
      "cell_type": "code",
      "metadata": {
        "colab": {
          "base_uri": "https://localhost:8080/"
        },
        "id": "AOqZOQqy5F8N",
        "outputId": "0b820b3d-e876-4ba6-b7c8-1fc2f0c88f94"
      },
      "source": [
        "gridsearch6 = GridSearchCV(SGDClassifier(), param_sgd, scoring='accuracy')\n",
        "gridsearch6.fit(X_train, y_train)"
      ],
      "execution_count": 34,
      "outputs": [
        {
          "output_type": "execute_result",
          "data": {
            "text/plain": [
              "GridSearchCV(cv='warn', error_score='raise-deprecating',\n",
              "             estimator=SGDClassifier(alpha=0.0001, average=False,\n",
              "                                     class_weight=None, early_stopping=False,\n",
              "                                     epsilon=0.1, eta0=0.0, fit_intercept=True,\n",
              "                                     l1_ratio=0.15, learning_rate='optimal',\n",
              "                                     loss='hinge', max_iter=1000,\n",
              "                                     n_iter_no_change=5, n_jobs=None,\n",
              "                                     penalty='l2', power_t=0.5,\n",
              "                                     random_state=None, shuffle=True, tol=0.001,\n",
              "                                     validation_fraction=0.1, verbose=0,\n",
              "                                     warm_start=False),\n",
              "             iid='warn', n_jobs=None,\n",
              "             param_grid={'loss': ['hinge', 'log', 'modified_huber',\n",
              "                                  'squared_hinge', 'perceptron', 'huber',\n",
              "                                  'epsilon_insensitive',\n",
              "                                  'squared_epsilon_insensitive'],\n",
              "                         'penalty': ['l2', 'l1', 'elasticnet']},\n",
              "             pre_dispatch='2*n_jobs', refit=True, return_train_score=False,\n",
              "             scoring='accuracy', verbose=0)"
            ]
          },
          "metadata": {},
          "execution_count": 34
        }
      ]
    },
    {
      "cell_type": "markdown",
      "metadata": {
        "id": "jz7-RXjmZXiI"
      },
      "source": [
        "## **Grid Search XGBoost**"
      ]
    },
    {
      "cell_type": "code",
      "metadata": {
        "colab": {
          "base_uri": "https://localhost:8080/"
        },
        "id": "ml4v21h75Gvn",
        "outputId": "8857e497-384f-4170-a8fd-42602cdd5cec"
      },
      "source": [
        "gridsearch7 = GridSearchCV(XGBClassifier(), param_xgb, scoring='accuracy')\n",
        "gridsearch7.fit(X_train, y_train)"
      ],
      "execution_count": 35,
      "outputs": [
        {
          "output_type": "execute_result",
          "data": {
            "text/plain": [
              "GridSearchCV(cv='warn', error_score='raise-deprecating',\n",
              "             estimator=XGBClassifier(base_score=0.5, booster='gbtree',\n",
              "                                     colsample_bylevel=1, colsample_bynode=1,\n",
              "                                     colsample_bytree=1, gamma=0,\n",
              "                                     learning_rate=0.1, max_delta_step=0,\n",
              "                                     max_depth=3, min_child_weight=1,\n",
              "                                     missing=None, n_estimators=100, n_jobs=1,\n",
              "                                     nthread=None, objective='binary:logistic',\n",
              "                                     random_state=0, reg_alpha=0, reg_lambda=1,\n",
              "                                     scale_pos_weight=1, seed=None, silent=None,\n",
              "                                     subsample=1, verbosity=1),\n",
              "             iid='warn', n_jobs=None,\n",
              "             param_grid={'booster': ['gbtree', 'gblinear']},\n",
              "             pre_dispatch='2*n_jobs', refit=True, return_train_score=False,\n",
              "             scoring='accuracy', verbose=0)"
            ]
          },
          "metadata": {},
          "execution_count": 35
        }
      ]
    },
    {
      "cell_type": "markdown",
      "metadata": {
        "id": "myO9L_GbZcgx"
      },
      "source": [
        "# **Hasil Grid Search**"
      ]
    },
    {
      "cell_type": "code",
      "metadata": {
        "colab": {
          "base_uri": "https://localhost:8080/"
        },
        "id": "ezwlMzJNEZuF",
        "outputId": "eb582eb0-bb74-4972-ee35-7d35ecf509ce"
      },
      "source": [
        "print (gridsearch.best_params_) # RF\n",
        "print(gridsearch1.best_params_) # LR\n",
        "print(gridsearch2.best_params_) # GNB\n",
        "print(gridsearch3.best_params_) # GB\n",
        "print(gridsearch4.best_params_) # KNN\n",
        "print(gridsearch5.best_params_) # MNB\n",
        "print(gridsearch6.best_params_) # SGD\n",
        "print(gridsearch7.best_params_) # XGB"
      ],
      "execution_count": 36,
      "outputs": [
        {
          "output_type": "stream",
          "name": "stdout",
          "text": [
            "{'criterion': 'entropy', 'n_estimators': 1000}\n",
            "{'C': 0.001, 'fit_intercept': 'True', 'penalty': 'l1'}\n",
            "{'var_smoothing': 1e-09}\n",
            "{'learning_rate': 0.001, 'n_estimators': 10}\n",
            "{'algorithm': 'ball_tree', 'n_neighbors': 5, 'weights': 'uniform'}\n",
            "{'alpha': 1.0, 'fit_prior': 'True'}\n",
            "{'loss': 'huber', 'penalty': 'l1'}\n",
            "{'booster': 'gblinear'}\n"
          ]
        }
      ]
    },
    {
      "cell_type": "markdown",
      "metadata": {
        "id": "QG3lAPaiZk0A"
      },
      "source": [
        "# **Implementasi Hyperparameter Berdasarkan Hasil Grid Search**"
      ]
    },
    {
      "cell_type": "markdown",
      "metadata": {
        "id": "CZ5GhPVjZqF4"
      },
      "source": [
        "## **Random Forest**"
      ]
    },
    {
      "cell_type": "code",
      "metadata": {
        "colab": {
          "base_uri": "https://localhost:8080/"
        },
        "id": "OCcfvdykFI_l",
        "outputId": "e5fa1463-8e8d-4795-9abc-f8933dcfc501"
      },
      "source": [
        "rf = RandomForestClassifier(**gridsearch.best_params_).fit(X_train, y_train)\n",
        "y_test_pred = rf.predict(X_test)\n",
        "print(classification_report(y_test , y_test_pred))"
      ],
      "execution_count": 37,
      "outputs": [
        {
          "output_type": "stream",
          "name": "stdout",
          "text": [
            "              precision    recall  f1-score   support\n",
            "\n",
            "   fulfilled       0.29      0.31      0.30        32\n",
            "      noshow       0.87      0.86      0.86       168\n",
            "\n",
            "    accuracy                           0.77       200\n",
            "   macro avg       0.58      0.58      0.58       200\n",
            "weighted avg       0.78      0.77      0.77       200\n",
            "\n"
          ]
        }
      ]
    },
    {
      "cell_type": "markdown",
      "metadata": {
        "id": "S2Hf22vUZugY"
      },
      "source": [
        "## **Logistic Regression**"
      ]
    },
    {
      "cell_type": "code",
      "metadata": {
        "colab": {
          "base_uri": "https://localhost:8080/"
        },
        "id": "cLnPdZe6HBej",
        "outputId": "bd6cfc1c-27b0-4314-d129-879aab182751"
      },
      "source": [
        "lr = LogisticRegression(**gridsearch1.best_params_).fit(X_train, y_train)\n",
        "y_test_pred = lr.predict(X_test)\n",
        "print(classification_report(y_test , y_test_pred))"
      ],
      "execution_count": 38,
      "outputs": [
        {
          "output_type": "stream",
          "name": "stdout",
          "text": [
            "              precision    recall  f1-score   support\n",
            "\n",
            "   fulfilled       0.00      0.00      0.00        32\n",
            "      noshow       0.84      1.00      0.91       168\n",
            "\n",
            "    accuracy                           0.84       200\n",
            "   macro avg       0.42      0.50      0.46       200\n",
            "weighted avg       0.71      0.84      0.77       200\n",
            "\n"
          ]
        }
      ]
    },
    {
      "cell_type": "markdown",
      "metadata": {
        "id": "C5-WKfgFZxov"
      },
      "source": [
        "## **Gaussian Naive Bayes**"
      ]
    },
    {
      "cell_type": "code",
      "metadata": {
        "colab": {
          "base_uri": "https://localhost:8080/"
        },
        "id": "OCqNeHJQHFQR",
        "outputId": "00115848-ce5e-42d6-cb93-7512daaee327"
      },
      "source": [
        "gnb = GaussianNB(**gridsearch2.best_params_).fit(X_train, y_train)\n",
        "y_test_pred = gnb.predict(X_test)\n",
        "print(classification_report(y_test , y_test_pred))"
      ],
      "execution_count": 39,
      "outputs": [
        {
          "output_type": "stream",
          "name": "stdout",
          "text": [
            "              precision    recall  f1-score   support\n",
            "\n",
            "   fulfilled       0.16      0.97      0.28        32\n",
            "      noshow       0.86      0.04      0.07       168\n",
            "\n",
            "    accuracy                           0.18       200\n",
            "   macro avg       0.51      0.50      0.17       200\n",
            "weighted avg       0.75      0.18      0.10       200\n",
            "\n"
          ]
        }
      ]
    },
    {
      "cell_type": "markdown",
      "metadata": {
        "id": "zLfGRDCSZ1gY"
      },
      "source": [
        "## **Gradient Boosting**"
      ]
    },
    {
      "cell_type": "code",
      "metadata": {
        "colab": {
          "base_uri": "https://localhost:8080/"
        },
        "id": "hGRI4GVrHHSz",
        "outputId": "80dc9afe-a38e-4225-8b7b-ac6e4992da95"
      },
      "source": [
        "gb = GradientBoostingClassifier(**gridsearch3.best_params_).fit(X_train, y_train)\n",
        "y_test_pred = gb.predict(X_test)\n",
        "print(classification_report(y_test , y_test_pred))"
      ],
      "execution_count": 40,
      "outputs": [
        {
          "output_type": "stream",
          "name": "stdout",
          "text": [
            "              precision    recall  f1-score   support\n",
            "\n",
            "   fulfilled       0.00      0.00      0.00        32\n",
            "      noshow       0.84      1.00      0.91       168\n",
            "\n",
            "    accuracy                           0.84       200\n",
            "   macro avg       0.42      0.50      0.46       200\n",
            "weighted avg       0.71      0.84      0.77       200\n",
            "\n"
          ]
        }
      ]
    },
    {
      "cell_type": "markdown",
      "metadata": {
        "id": "YtfX0FgEZ5PH"
      },
      "source": [
        "## **K-Nearest Neighbors**"
      ]
    },
    {
      "cell_type": "code",
      "metadata": {
        "colab": {
          "base_uri": "https://localhost:8080/"
        },
        "id": "RlfDBardHIex",
        "outputId": "4560f4f4-33ca-422a-c892-3f4dc6e9ee04"
      },
      "source": [
        "knn = KNeighborsClassifier(**gridsearch4.best_params_).fit(X_train, y_train)\n",
        "y_test_pred = knn.predict(X_test)\n",
        "print(classification_report(y_test , y_test_pred))"
      ],
      "execution_count": 41,
      "outputs": [
        {
          "output_type": "stream",
          "name": "stdout",
          "text": [
            "              precision    recall  f1-score   support\n",
            "\n",
            "   fulfilled       0.17      0.03      0.05        32\n",
            "      noshow       0.84      0.97      0.90       168\n",
            "\n",
            "    accuracy                           0.82       200\n",
            "   macro avg       0.50      0.50      0.48       200\n",
            "weighted avg       0.73      0.82      0.76       200\n",
            "\n"
          ]
        }
      ]
    },
    {
      "cell_type": "markdown",
      "metadata": {
        "id": "5muPSrZFaBg7"
      },
      "source": [
        "## **Multinomial Naive Bayes**"
      ]
    },
    {
      "cell_type": "code",
      "metadata": {
        "colab": {
          "base_uri": "https://localhost:8080/"
        },
        "id": "B88rqgslHJPA",
        "outputId": "287e1ffe-cf95-4f79-d162-f72032891a82"
      },
      "source": [
        "mnb = MultinomialNB(**gridsearch5.best_params_).fit(X_train, y_train)\n",
        "y_test_pred = mnb.predict(X_test)\n",
        "print(classification_report(y_test , y_test_pred))"
      ],
      "execution_count": 42,
      "outputs": [
        {
          "output_type": "stream",
          "name": "stdout",
          "text": [
            "              precision    recall  f1-score   support\n",
            "\n",
            "   fulfilled       1.00      0.06      0.12        32\n",
            "      noshow       0.85      1.00      0.92       168\n",
            "\n",
            "    accuracy                           0.85       200\n",
            "   macro avg       0.92      0.53      0.52       200\n",
            "weighted avg       0.87      0.85      0.79       200\n",
            "\n"
          ]
        }
      ]
    },
    {
      "cell_type": "markdown",
      "metadata": {
        "id": "reQMq7OLaFzQ"
      },
      "source": [
        "## **Stochastic Gradient Descent**"
      ]
    },
    {
      "cell_type": "code",
      "metadata": {
        "colab": {
          "base_uri": "https://localhost:8080/"
        },
        "id": "lyjpm75oHJ0F",
        "outputId": "2238a9a4-fd1d-46fd-f216-78a0243ff998"
      },
      "source": [
        "sgd = SGDClassifier(**gridsearch6.best_params_).fit(X_train, y_train)\n",
        "y_test_pred = sgd.predict(X_test)\n",
        "print(classification_report(y_test , y_test_pred))"
      ],
      "execution_count": 43,
      "outputs": [
        {
          "output_type": "stream",
          "name": "stdout",
          "text": [
            "              precision    recall  f1-score   support\n",
            "\n",
            "   fulfilled       0.16      1.00      0.28        32\n",
            "      noshow       1.00      0.02      0.05       168\n",
            "\n",
            "    accuracy                           0.18       200\n",
            "   macro avg       0.58      0.51      0.16       200\n",
            "weighted avg       0.87      0.18      0.08       200\n",
            "\n"
          ]
        }
      ]
    },
    {
      "cell_type": "markdown",
      "metadata": {
        "id": "voqP8iGYaPaD"
      },
      "source": [
        "## **XGBoost**"
      ]
    },
    {
      "cell_type": "code",
      "metadata": {
        "colab": {
          "base_uri": "https://localhost:8080/"
        },
        "id": "f81zmr_KHKWo",
        "outputId": "dbc93aaf-722c-4188-e2af-02f02f9ab5b4"
      },
      "source": [
        "xgb = XGBClassifier(**gridsearch7.best_params_).fit(X_train, y_train)\n",
        "y_test_pred = xgb.predict(X_test)\n",
        "print(classification_report(y_test , y_test_pred))"
      ],
      "execution_count": 44,
      "outputs": [
        {
          "output_type": "stream",
          "name": "stdout",
          "text": [
            "              precision    recall  f1-score   support\n",
            "\n",
            "   fulfilled       0.00      0.00      0.00        32\n",
            "      noshow       0.84      1.00      0.91       168\n",
            "\n",
            "    accuracy                           0.84       200\n",
            "   macro avg       0.42      0.50      0.46       200\n",
            "weighted avg       0.71      0.84      0.77       200\n",
            "\n"
          ]
        }
      ]
    },
    {
      "cell_type": "markdown",
      "metadata": {
        "id": "phald0WraTCg"
      },
      "source": [
        "# **Implementasi Random Search**"
      ]
    },
    {
      "cell_type": "markdown",
      "metadata": {
        "id": "BQvharqVai8k"
      },
      "source": [
        "## **Random Forest**"
      ]
    },
    {
      "cell_type": "code",
      "metadata": {
        "colab": {
          "base_uri": "https://localhost:8080/"
        },
        "id": "gzqy4x2GamnX",
        "outputId": "cf73bdf6-8e0f-42d1-df29-711023c2d7ba"
      },
      "source": [
        "randomsearch = RandomizedSearchCV(RandomForestClassifier(), param_rf, scoring='accuracy')\n",
        "randomsearch.fit(X_train, y_train)"
      ],
      "execution_count": 45,
      "outputs": [
        {
          "output_type": "execute_result",
          "data": {
            "text/plain": [
              "RandomizedSearchCV(cv='warn', error_score='raise-deprecating',\n",
              "                   estimator=RandomForestClassifier(bootstrap=True,\n",
              "                                                    class_weight=None,\n",
              "                                                    criterion='gini',\n",
              "                                                    max_depth=None,\n",
              "                                                    max_features='auto',\n",
              "                                                    max_leaf_nodes=None,\n",
              "                                                    min_impurity_decrease=0.0,\n",
              "                                                    min_impurity_split=None,\n",
              "                                                    min_samples_leaf=1,\n",
              "                                                    min_samples_split=2,\n",
              "                                                    min_weight_fraction_leaf=0.0,\n",
              "                                                    n_estimators='warn',\n",
              "                                                    n_jobs=None,\n",
              "                                                    oob_score=False,\n",
              "                                                    random_state=None,\n",
              "                                                    verbose=0,\n",
              "                                                    warm_start=False),\n",
              "                   iid='warn', n_iter=10, n_jobs=None,\n",
              "                   param_distributions={'criterion': ['gini', 'entropy'],\n",
              "                                        'n_estimators': [10, 100, 1000]},\n",
              "                   pre_dispatch='2*n_jobs', random_state=None, refit=True,\n",
              "                   return_train_score=False, scoring='accuracy', verbose=0)"
            ]
          },
          "metadata": {},
          "execution_count": 45
        }
      ]
    },
    {
      "cell_type": "markdown",
      "metadata": {
        "id": "ui2KIUxzai8k"
      },
      "source": [
        "## **Logistic Regression**"
      ]
    },
    {
      "cell_type": "code",
      "metadata": {
        "colab": {
          "base_uri": "https://localhost:8080/"
        },
        "id": "eNNiUw70anaZ",
        "outputId": "5599c26e-267e-4ced-f602-786d7b1b5c45"
      },
      "source": [
        "randomsearch1 = RandomizedSearchCV(LogisticRegression(), param_lr, scoring='accuracy')\n",
        "randomsearch1.fit(X_train, y_train)"
      ],
      "execution_count": 46,
      "outputs": [
        {
          "output_type": "execute_result",
          "data": {
            "text/plain": [
              "RandomizedSearchCV(cv='warn', error_score='raise-deprecating',\n",
              "                   estimator=LogisticRegression(C=1.0, class_weight=None,\n",
              "                                                dual=False, fit_intercept=True,\n",
              "                                                intercept_scaling=1,\n",
              "                                                l1_ratio=None, max_iter=100,\n",
              "                                                multi_class='warn', n_jobs=None,\n",
              "                                                penalty='l2', random_state=None,\n",
              "                                                solver='warn', tol=0.0001,\n",
              "                                                verbose=0, warm_start=False),\n",
              "                   iid='warn', n_iter=10, n_jobs=None,\n",
              "                   param_distributions={'C': array([1.00000000e-03, 3.16227766e-02, 1.00000000e+00, 3.16227766e+01,\n",
              "       1.00000000e+03]),\n",
              "                                        'fit_intercept': ['True', 'False'],\n",
              "                                        'penalty': ['l1', 'l2']},\n",
              "                   pre_dispatch='2*n_jobs', random_state=None, refit=True,\n",
              "                   return_train_score=False, scoring='accuracy', verbose=0)"
            ]
          },
          "metadata": {},
          "execution_count": 46
        }
      ]
    },
    {
      "cell_type": "markdown",
      "metadata": {
        "id": "GdERFtybai8k"
      },
      "source": [
        "## **Gaussian Naive Bayes**"
      ]
    },
    {
      "cell_type": "code",
      "metadata": {
        "colab": {
          "base_uri": "https://localhost:8080/"
        },
        "id": "tkvJeU94asOw",
        "outputId": "78e5b584-4e08-40ff-ed9b-ca353618203b"
      },
      "source": [
        "randomsearch2 = RandomizedSearchCV(GaussianNB(), param_gnb, scoring='accuracy')\n",
        "randomsearch2.fit(X_train, y_train)"
      ],
      "execution_count": 47,
      "outputs": [
        {
          "output_type": "execute_result",
          "data": {
            "text/plain": [
              "RandomizedSearchCV(cv='warn', error_score='raise-deprecating',\n",
              "                   estimator=GaussianNB(priors=None, var_smoothing=1e-09),\n",
              "                   iid='warn', n_iter=10, n_jobs=None,\n",
              "                   param_distributions={'var_smoothing': [1e-09]},\n",
              "                   pre_dispatch='2*n_jobs', random_state=None, refit=True,\n",
              "                   return_train_score=False, scoring='accuracy', verbose=0)"
            ]
          },
          "metadata": {},
          "execution_count": 47
        }
      ]
    },
    {
      "cell_type": "markdown",
      "metadata": {
        "id": "Y_0R5F-rai8l"
      },
      "source": [
        "## **Gradient Boosting**"
      ]
    },
    {
      "cell_type": "code",
      "metadata": {
        "colab": {
          "base_uri": "https://localhost:8080/"
        },
        "id": "72BgDQKcayrI",
        "outputId": "97b86b9b-a60d-418a-8212-ed539ca78f11"
      },
      "source": [
        "randomsearch3 = RandomizedSearchCV(GradientBoostingClassifier(), param_gb, scoring='accuracy')\n",
        "randomsearch3.fit(X_train, y_train)"
      ],
      "execution_count": 48,
      "outputs": [
        {
          "output_type": "execute_result",
          "data": {
            "text/plain": [
              "RandomizedSearchCV(cv='warn', error_score='raise-deprecating',\n",
              "                   estimator=GradientBoostingClassifier(criterion='friedman_mse',\n",
              "                                                        init=None,\n",
              "                                                        learning_rate=0.1,\n",
              "                                                        loss='deviance',\n",
              "                                                        max_depth=3,\n",
              "                                                        max_features=None,\n",
              "                                                        max_leaf_nodes=None,\n",
              "                                                        min_impurity_decrease=0.0,\n",
              "                                                        min_impurity_split=None,\n",
              "                                                        min_samples_leaf=1,\n",
              "                                                        min_samples_split=2,\n",
              "                                                        min_weight_fraction_leaf=0.0,\n",
              "                                                        n_estimators=100,\n",
              "                                                        n_iter_no_change=None,\n",
              "                                                        presort='auto',\n",
              "                                                        random_state=None,\n",
              "                                                        subsample=1.0,\n",
              "                                                        tol=0.0001,\n",
              "                                                        validation_fraction=0.1,\n",
              "                                                        verbose=0,\n",
              "                                                        warm_start=False),\n",
              "                   iid='warn', n_iter=10, n_jobs=None,\n",
              "                   param_distributions={'learning_rate': [0.001, 0.01, 0.1,\n",
              "                                                          0.3],\n",
              "                                        'n_estimators': [10, 100, 1000]},\n",
              "                   pre_dispatch='2*n_jobs', random_state=None, refit=True,\n",
              "                   return_train_score=False, scoring='accuracy', verbose=0)"
            ]
          },
          "metadata": {},
          "execution_count": 48
        }
      ]
    },
    {
      "cell_type": "markdown",
      "metadata": {
        "id": "4l8MrDVKai8l"
      },
      "source": [
        "## **K-Nearest Neighbors**"
      ]
    },
    {
      "cell_type": "code",
      "metadata": {
        "colab": {
          "base_uri": "https://localhost:8080/"
        },
        "id": "WDgUSlpvaz2J",
        "outputId": "06397733-011a-4595-cf61-9b863f4e0e5e"
      },
      "source": [
        "randomsearch4 = RandomizedSearchCV(KNeighborsClassifier(), param_knn, scoring='accuracy')\n",
        "randomsearch4.fit(X_train, y_train)"
      ],
      "execution_count": 49,
      "outputs": [
        {
          "output_type": "execute_result",
          "data": {
            "text/plain": [
              "RandomizedSearchCV(cv='warn', error_score='raise-deprecating',\n",
              "                   estimator=KNeighborsClassifier(algorithm='auto',\n",
              "                                                  leaf_size=30,\n",
              "                                                  metric='minkowski',\n",
              "                                                  metric_params=None,\n",
              "                                                  n_jobs=None, n_neighbors=5,\n",
              "                                                  p=2, weights='uniform'),\n",
              "                   iid='warn', n_iter=10, n_jobs=None,\n",
              "                   param_distributions={'algorithm': ['auto', 'ball_tree',\n",
              "                                                      'kd_tree', 'brute'],\n",
              "                                        'n_neighbors': [5],\n",
              "                                        'weights': ['uniform', 'distance']},\n",
              "                   pre_dispatch='2*n_jobs', random_state=None, refit=True,\n",
              "                   return_train_score=False, scoring='accuracy', verbose=0)"
            ]
          },
          "metadata": {},
          "execution_count": 49
        }
      ]
    },
    {
      "cell_type": "markdown",
      "metadata": {
        "id": "mEsYsXchai8l"
      },
      "source": [
        "## **Multinomial Naive Bayes**"
      ]
    },
    {
      "cell_type": "code",
      "metadata": {
        "colab": {
          "base_uri": "https://localhost:8080/"
        },
        "id": "i4VN9ZXSa0rR",
        "outputId": "a140fdec-3ad4-4452-c71e-a97845010ce0"
      },
      "source": [
        "randomsearch5 = RandomizedSearchCV(MultinomialNB(), param_mnb, scoring='accuracy')\n",
        "randomsearch5.fit(X_train, y_train)"
      ],
      "execution_count": 50,
      "outputs": [
        {
          "output_type": "execute_result",
          "data": {
            "text/plain": [
              "RandomizedSearchCV(cv='warn', error_score='raise-deprecating',\n",
              "                   estimator=MultinomialNB(alpha=1.0, class_prior=None,\n",
              "                                           fit_prior=True),\n",
              "                   iid='warn', n_iter=10, n_jobs=None,\n",
              "                   param_distributions={'alpha': [1.0, 0.01, 0.001],\n",
              "                                        'fit_prior': ['True', 'False']},\n",
              "                   pre_dispatch='2*n_jobs', random_state=None, refit=True,\n",
              "                   return_train_score=False, scoring='accuracy', verbose=0)"
            ]
          },
          "metadata": {},
          "execution_count": 50
        }
      ]
    },
    {
      "cell_type": "markdown",
      "metadata": {
        "id": "b3LFrz1sai8l"
      },
      "source": [
        "## **Stochastic Stochastic Gradient Descent**"
      ]
    },
    {
      "cell_type": "code",
      "metadata": {
        "colab": {
          "base_uri": "https://localhost:8080/"
        },
        "id": "HpW_6MEea1oZ",
        "outputId": "5b48f0f4-a688-44c5-df3f-be60e6023830"
      },
      "source": [
        "randomsearch6 = RandomizedSearchCV(SGDClassifier(), param_sgd, scoring='accuracy')\n",
        "randomsearch6.fit(X_train, y_train)"
      ],
      "execution_count": 51,
      "outputs": [
        {
          "output_type": "execute_result",
          "data": {
            "text/plain": [
              "RandomizedSearchCV(cv='warn', error_score='raise-deprecating',\n",
              "                   estimator=SGDClassifier(alpha=0.0001, average=False,\n",
              "                                           class_weight=None,\n",
              "                                           early_stopping=False, epsilon=0.1,\n",
              "                                           eta0=0.0, fit_intercept=True,\n",
              "                                           l1_ratio=0.15,\n",
              "                                           learning_rate='optimal',\n",
              "                                           loss='hinge', max_iter=1000,\n",
              "                                           n_iter_no_change=5, n_jobs=None,\n",
              "                                           penalty='l2', power_t=0.5,\n",
              "                                           random_state=None, shuffle=True,\n",
              "                                           tol=0.0...\n",
              "                                           verbose=0, warm_start=False),\n",
              "                   iid='warn', n_iter=10, n_jobs=None,\n",
              "                   param_distributions={'loss': ['hinge', 'log',\n",
              "                                                 'modified_huber',\n",
              "                                                 'squared_hinge', 'perceptron',\n",
              "                                                 'huber', 'epsilon_insensitive',\n",
              "                                                 'squared_epsilon_insensitive'],\n",
              "                                        'penalty': ['l2', 'l1', 'elasticnet']},\n",
              "                   pre_dispatch='2*n_jobs', random_state=None, refit=True,\n",
              "                   return_train_score=False, scoring='accuracy', verbose=0)"
            ]
          },
          "metadata": {},
          "execution_count": 51
        }
      ]
    },
    {
      "cell_type": "markdown",
      "metadata": {
        "id": "9pDBRcSdai8l"
      },
      "source": [
        "## **XGBoost**"
      ]
    },
    {
      "cell_type": "code",
      "metadata": {
        "colab": {
          "base_uri": "https://localhost:8080/"
        },
        "id": "yr_81ZRCa283",
        "outputId": "0d25d336-f733-49e4-d4e0-7f711a8d2aef"
      },
      "source": [
        "randomsearch7 = RandomizedSearchCV(XGBClassifier(), param_xgb, scoring='accuracy')\n",
        "randomsearch7.fit(X_train, y_train)"
      ],
      "execution_count": 52,
      "outputs": [
        {
          "output_type": "execute_result",
          "data": {
            "text/plain": [
              "RandomizedSearchCV(cv='warn', error_score='raise-deprecating',\n",
              "                   estimator=XGBClassifier(base_score=0.5, booster='gbtree',\n",
              "                                           colsample_bylevel=1,\n",
              "                                           colsample_bynode=1,\n",
              "                                           colsample_bytree=1, gamma=0,\n",
              "                                           learning_rate=0.1, max_delta_step=0,\n",
              "                                           max_depth=3, min_child_weight=1,\n",
              "                                           missing=None, n_estimators=100,\n",
              "                                           n_jobs=1, nthread=None,\n",
              "                                           objective='binary:logistic',\n",
              "                                           random_state=0, reg_alpha=0,\n",
              "                                           reg_lambda=1, scale_pos_weight=1,\n",
              "                                           seed=None, silent=None, subsample=1,\n",
              "                                           verbosity=1),\n",
              "                   iid='warn', n_iter=10, n_jobs=None,\n",
              "                   param_distributions={'booster': ['gbtree', 'gblinear']},\n",
              "                   pre_dispatch='2*n_jobs', random_state=None, refit=True,\n",
              "                   return_train_score=False, scoring='accuracy', verbose=0)"
            ]
          },
          "metadata": {},
          "execution_count": 52
        }
      ]
    },
    {
      "cell_type": "markdown",
      "metadata": {
        "id": "c_Q49AGZbPh3"
      },
      "source": [
        "# **Hasil Random Search**"
      ]
    },
    {
      "cell_type": "code",
      "metadata": {
        "colab": {
          "base_uri": "https://localhost:8080/"
        },
        "id": "2WimUMU_VI9d",
        "outputId": "c7778565-92ca-460d-d1c4-20c8bf2803c7"
      },
      "source": [
        "print(randomsearch.best_params_) # RF\n",
        "print(randomsearch1.best_params_) # LR\n",
        "print(randomsearch2.best_params_) # GNB\n",
        "print(randomsearch3.best_params_) # GB\n",
        "print(randomsearch4.best_params_) # KNN\n",
        "print(randomsearch5.best_params_) # MNB\n",
        "print(randomsearch6.best_params_) # SGD\n",
        "print(randomsearch7.best_params_) # XGB"
      ],
      "execution_count": 53,
      "outputs": [
        {
          "output_type": "stream",
          "name": "stdout",
          "text": [
            "{'n_estimators': 100, 'criterion': 'entropy'}\n",
            "{'penalty': 'l2', 'fit_intercept': 'True', 'C': 0.03162277660168379}\n",
            "{'var_smoothing': 1e-09}\n",
            "{'n_estimators': 10, 'learning_rate': 0.001}\n",
            "{'weights': 'uniform', 'n_neighbors': 5, 'algorithm': 'ball_tree'}\n",
            "{'fit_prior': 'True', 'alpha': 1.0}\n",
            "{'penalty': 'elasticnet', 'loss': 'modified_huber'}\n",
            "{'booster': 'gblinear'}\n"
          ]
        }
      ]
    },
    {
      "cell_type": "markdown",
      "metadata": {
        "id": "MUDy9SxvbT2_"
      },
      "source": [
        "# **Implementasi Hyperparameter Berdasarkan Hasil Random Search**"
      ]
    },
    {
      "cell_type": "markdown",
      "metadata": {
        "id": "kIk-Jm4bbuED"
      },
      "source": [
        "## **Random Forest**"
      ]
    },
    {
      "cell_type": "code",
      "metadata": {
        "colab": {
          "base_uri": "https://localhost:8080/"
        },
        "id": "VxneAkVhbwEI",
        "outputId": "2465b665-9c67-4286-c318-f09c10b24546"
      },
      "source": [
        "rf = RandomForestClassifier(**randomsearch.best_params_).fit(X_train, y_train)\n",
        "y_test_pred = rf.predict(X_test)\n",
        "print(classification_report(y_test , y_test_pred))"
      ],
      "execution_count": 54,
      "outputs": [
        {
          "output_type": "stream",
          "name": "stdout",
          "text": [
            "              precision    recall  f1-score   support\n",
            "\n",
            "   fulfilled       0.27      0.28      0.28        32\n",
            "      noshow       0.86      0.86      0.86       168\n",
            "\n",
            "    accuracy                           0.77       200\n",
            "   macro avg       0.57      0.57      0.57       200\n",
            "weighted avg       0.77      0.77      0.77       200\n",
            "\n"
          ]
        }
      ]
    },
    {
      "cell_type": "markdown",
      "metadata": {
        "id": "AVOMsLV7buEE"
      },
      "source": [
        "## **Logistic Regression**"
      ]
    },
    {
      "cell_type": "code",
      "metadata": {
        "colab": {
          "base_uri": "https://localhost:8080/"
        },
        "id": "vCrUSPaab1NX",
        "outputId": "6393aa92-c35f-48c4-d380-3dd87f597b5a"
      },
      "source": [
        "lr = LogisticRegression(**randomsearch1.best_params_).fit(X_train, y_train)\n",
        "y_test_pred = lr.predict(X_test)\n",
        "print(classification_report(y_test , y_test_pred))"
      ],
      "execution_count": 55,
      "outputs": [
        {
          "output_type": "stream",
          "name": "stdout",
          "text": [
            "              precision    recall  f1-score   support\n",
            "\n",
            "   fulfilled       0.00      0.00      0.00        32\n",
            "      noshow       0.84      1.00      0.91       168\n",
            "\n",
            "    accuracy                           0.84       200\n",
            "   macro avg       0.42      0.50      0.46       200\n",
            "weighted avg       0.71      0.84      0.77       200\n",
            "\n"
          ]
        }
      ]
    },
    {
      "cell_type": "markdown",
      "metadata": {
        "id": "477wIboUbuEE"
      },
      "source": [
        "## **Gaussian Naive Bayes**"
      ]
    },
    {
      "cell_type": "code",
      "metadata": {
        "colab": {
          "base_uri": "https://localhost:8080/"
        },
        "id": "4GyRDGizb2pn",
        "outputId": "66c10e63-b224-49b7-d972-6f76e846c391"
      },
      "source": [
        "gnb = GaussianNB(**randomsearch2.best_params_).fit(X_train, y_train)\n",
        "y_test_pred = gnb.predict(X_test)\n",
        "print(classification_report(y_test , y_test_pred))"
      ],
      "execution_count": 56,
      "outputs": [
        {
          "output_type": "stream",
          "name": "stdout",
          "text": [
            "              precision    recall  f1-score   support\n",
            "\n",
            "   fulfilled       0.16      0.97      0.28        32\n",
            "      noshow       0.86      0.04      0.07       168\n",
            "\n",
            "    accuracy                           0.18       200\n",
            "   macro avg       0.51      0.50      0.17       200\n",
            "weighted avg       0.75      0.18      0.10       200\n",
            "\n"
          ]
        }
      ]
    },
    {
      "cell_type": "markdown",
      "metadata": {
        "id": "Afc-NogvbuEE"
      },
      "source": [
        "## **Gradient Boosting**"
      ]
    },
    {
      "cell_type": "code",
      "metadata": {
        "colab": {
          "base_uri": "https://localhost:8080/"
        },
        "id": "7kFoYnhlb34G",
        "outputId": "065d5e9a-2fb8-464b-e268-7a359e87364b"
      },
      "source": [
        "gb = GradientBoostingClassifier(**randomsearch3.best_params_).fit(X_train, y_train)\n",
        "y_test_pred = gb.predict(X_test)\n",
        "print(classification_report(y_test , y_test_pred))"
      ],
      "execution_count": 57,
      "outputs": [
        {
          "output_type": "stream",
          "name": "stdout",
          "text": [
            "              precision    recall  f1-score   support\n",
            "\n",
            "   fulfilled       0.00      0.00      0.00        32\n",
            "      noshow       0.84      1.00      0.91       168\n",
            "\n",
            "    accuracy                           0.84       200\n",
            "   macro avg       0.42      0.50      0.46       200\n",
            "weighted avg       0.71      0.84      0.77       200\n",
            "\n"
          ]
        }
      ]
    },
    {
      "cell_type": "markdown",
      "metadata": {
        "id": "Sa3qxJGLbuEE"
      },
      "source": [
        "## **K-Nearest Neighbors**"
      ]
    },
    {
      "cell_type": "code",
      "metadata": {
        "colab": {
          "base_uri": "https://localhost:8080/"
        },
        "id": "cZyeU9o9b46A",
        "outputId": "b130bc80-87e8-4973-e6d4-722c5720f370"
      },
      "source": [
        "knn = KNeighborsClassifier(**randomsearch4.best_params_).fit(X_train, y_train)\n",
        "y_test_pred = knn.predict(X_test)\n",
        "print(classification_report(y_test , y_test_pred))"
      ],
      "execution_count": 58,
      "outputs": [
        {
          "output_type": "stream",
          "name": "stdout",
          "text": [
            "              precision    recall  f1-score   support\n",
            "\n",
            "   fulfilled       0.17      0.03      0.05        32\n",
            "      noshow       0.84      0.97      0.90       168\n",
            "\n",
            "    accuracy                           0.82       200\n",
            "   macro avg       0.50      0.50      0.48       200\n",
            "weighted avg       0.73      0.82      0.76       200\n",
            "\n"
          ]
        }
      ]
    },
    {
      "cell_type": "markdown",
      "metadata": {
        "id": "lnA19oU-buEE"
      },
      "source": [
        "## **Multinomial Naive Bayes**"
      ]
    },
    {
      "cell_type": "code",
      "metadata": {
        "colab": {
          "base_uri": "https://localhost:8080/"
        },
        "id": "yHABGmi0b5nw",
        "outputId": "4210d8cb-4d49-4fe2-b569-f7092c25737c"
      },
      "source": [
        "mnb = MultinomialNB(**randomsearch5.best_params_).fit(X_train, y_train)\n",
        "y_test_pred = mnb.predict(X_test)\n",
        "print(classification_report(y_test , y_test_pred))"
      ],
      "execution_count": 59,
      "outputs": [
        {
          "output_type": "stream",
          "name": "stdout",
          "text": [
            "              precision    recall  f1-score   support\n",
            "\n",
            "   fulfilled       1.00      0.06      0.12        32\n",
            "      noshow       0.85      1.00      0.92       168\n",
            "\n",
            "    accuracy                           0.85       200\n",
            "   macro avg       0.92      0.53      0.52       200\n",
            "weighted avg       0.87      0.85      0.79       200\n",
            "\n"
          ]
        }
      ]
    },
    {
      "cell_type": "markdown",
      "metadata": {
        "id": "s_H8-cdPbuEE"
      },
      "source": [
        "## **Stochastic Gradient Descent**"
      ]
    },
    {
      "cell_type": "code",
      "metadata": {
        "colab": {
          "base_uri": "https://localhost:8080/"
        },
        "id": "S0tEYQLJb6ku",
        "outputId": "0ab159dd-3041-48bc-951a-981dabe39b22"
      },
      "source": [
        "sgd = SGDClassifier(**randomsearch6.best_params_).fit(X_train, y_train)\n",
        "y_test_pred = sgd.predict(X_test)\n",
        "print(classification_report(y_test , y_test_pred))"
      ],
      "execution_count": 60,
      "outputs": [
        {
          "output_type": "stream",
          "name": "stdout",
          "text": [
            "              precision    recall  f1-score   support\n",
            "\n",
            "   fulfilled       0.00      0.00      0.00        32\n",
            "      noshow       0.84      1.00      0.91       168\n",
            "\n",
            "    accuracy                           0.84       200\n",
            "   macro avg       0.42      0.50      0.46       200\n",
            "weighted avg       0.71      0.84      0.77       200\n",
            "\n"
          ]
        }
      ]
    },
    {
      "cell_type": "markdown",
      "metadata": {
        "id": "EOm6w0lhbuEE"
      },
      "source": [
        "## **XGBoost**"
      ]
    },
    {
      "cell_type": "code",
      "metadata": {
        "colab": {
          "base_uri": "https://localhost:8080/"
        },
        "id": "EDHqjPLDb8bB",
        "outputId": "b7a356f0-c5bc-478a-d5c3-6692613c3f45"
      },
      "source": [
        "xgb = XGBClassifier(**randomsearch7.best_params_).fit(X_train, y_train)\n",
        "y_test_pred = xgb.predict(X_test)\n",
        "print(classification_report(y_test , y_test_pred))"
      ],
      "execution_count": 61,
      "outputs": [
        {
          "output_type": "stream",
          "name": "stdout",
          "text": [
            "              precision    recall  f1-score   support\n",
            "\n",
            "   fulfilled       0.00      0.00      0.00        32\n",
            "      noshow       0.84      1.00      0.91       168\n",
            "\n",
            "    accuracy                           0.84       200\n",
            "   macro avg       0.42      0.50      0.46       200\n",
            "weighted avg       0.71      0.84      0.77       200\n",
            "\n"
          ]
        }
      ]
    }
  ]
}