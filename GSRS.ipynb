{
  "nbformat": 4,
  "nbformat_minor": 0,
  "metadata": {
    "colab": {
      "name": "Salinan dari CodeWithMod.ipynb",
      "provenance": [],
      "collapsed_sections": [
        "phald0WraTCg"
      ]
    },
    "kernelspec": {
      "name": "python3",
      "display_name": "Python 3"
    },
    "language_info": {
      "name": "python"
    }
  },
  "cells": [
    {
      "cell_type": "markdown",
      "metadata": {
        "id": "8y7B_X38VF7I"
      },
      "source": [
        "# **Instalasi Cardea**"
      ]
    },
    {
      "cell_type": "code",
      "metadata": {
        "id": "gqdwUwC9xZuD"
      },
      "source": [
        "#! pip install cardea==0.1.2\n",
        "#! pip install 'urllib3!=1.25.0,!=1.25.1,<1.26,>=1.21.1' # Dijadikan komentar karena keberadaannya terdapat pada baris code asli milik Author, namun tidak memengaruhi baris code dari hasil modifikasi"
      ],
      "execution_count": 1,
      "outputs": []
    },
    {
      "cell_type": "markdown",
      "metadata": {
        "id": "r3fzFvaEVDFs"
      },
      "source": [
        "# **Import Library** "
      ]
    },
    {
      "cell_type": "code",
      "metadata": {
        "id": "vPez2658xczY",
        "colab": {
          "base_uri": "https://localhost:8080/"
        },
        "outputId": "41eac7c6-78fe-41c2-b1a9-3472d514255f"
      },
      "source": [
        "# Library\n",
        "import pandas as pd\n",
        "import numpy as np\n",
        "import sklearn\n",
        "# Cardea\n",
        "from cardea import Cardea\n",
        "\n",
        "# Model\n",
        "from sklearn.ensemble import RandomForestClassifier\n",
        "from sklearn.linear_model import LogisticRegression\n",
        "from sklearn.naive_bayes import GaussianNB\n",
        "from sklearn.ensemble import GradientBoostingClassifier\n",
        "from sklearn.neighbors import KNeighborsClassifier\n",
        "from sklearn.naive_bayes import MultinomialNB\n",
        "from sklearn.linear_model import SGDClassifier\n",
        "from xgboost import XGBClassifier\n",
        "\n",
        "# Grid Searh & Random Search\n",
        "from sklearn.model_selection import GridSearchCV\n",
        "from sklearn.model_selection import RandomizedSearchCV\n",
        "\n",
        "# Evaluation\n",
        "from sklearn.metrics import accuracy_score\n",
        "from sklearn.metrics import classification_report\n",
        "print('The scikit-learn version is {}.'.format(sklearn.__version__))"
      ],
      "execution_count": 2,
      "outputs": [
        {
          "output_type": "stream",
          "name": "stdout",
          "text": [
            "The scikit-learn version is 0.21.3.\n"
          ]
        }
      ]
    },
    {
      "cell_type": "code",
      "metadata": {
        "id": "M6mFmEsMxfl9"
      },
      "source": [
        "# optional\n",
        "import warnings\n",
        "warnings.filterwarnings(\"ignore\")"
      ],
      "execution_count": 3,
      "outputs": []
    },
    {
      "cell_type": "code",
      "metadata": {
        "id": "hnOCZJLYxg4C"
      },
      "source": [
        "cd = Cardea()"
      ],
      "execution_count": 4,
      "outputs": []
    },
    {
      "cell_type": "code",
      "metadata": {
        "id": "AXfYP8mGxiTx"
      },
      "source": [
        "#! curl -O https://dai-cardea.s3.amazonaws.com/kaggle.zip && unzip kaggle.zip"
      ],
      "execution_count": 5,
      "outputs": []
    },
    {
      "cell_type": "code",
      "metadata": {
        "colab": {
          "base_uri": "https://localhost:8080/"
        },
        "id": "fTX-D4rFxiZZ",
        "outputId": "7dc8585f-73cb-4f5d-d4de-47fbe9eabc0c"
      },
      "source": [
        "cd.load_entityset(data='kaggle')\n",
        "\n",
        "# to view the loaded entityset\n",
        "cd.es"
      ],
      "execution_count": 6,
      "outputs": [
        {
          "output_type": "execute_result",
          "data": {
            "text/plain": [
              "Entityset: fhir\n",
              "  Entities:\n",
              "    Observation [Rows: 110527, Columns: 3]\n",
              "    Appointment [Rows: 110527, Columns: 5]\n",
              "    Coding [Rows: 3, Columns: 2]\n",
              "    Reference [Rows: 6100, Columns: 1]\n",
              "    Address [Rows: 81, Columns: 2]\n",
              "    Appointment_Participant [Rows: 6100, Columns: 2]\n",
              "    CodeableConcept [Rows: 4, Columns: 2]\n",
              "    Patient [Rows: 6100, Columns: 4]\n",
              "    Identifier [Rows: 227151, Columns: 1]\n",
              "  Relationships:\n",
              "    Observation.code -> CodeableConcept.object_id\n",
              "    Observation.subject -> Reference.identifier\n",
              "    Appointment.participant -> Appointment_Participant.object_id\n",
              "    Appointment_Participant.actor -> Reference.identifier\n",
              "    CodeableConcept.coding -> Coding.object_id\n",
              "    Patient.address -> Address.object_id"
            ]
          },
          "metadata": {},
          "execution_count": 6
        }
      ]
    },
    {
      "cell_type": "code",
      "metadata": {
        "colab": {
          "base_uri": "https://localhost:8080/"
        },
        "id": "P5AaoH8Cxkgi",
        "outputId": "eea27951-ffb5-499f-b267-74855553563a"
      },
      "source": [
        "cd.list_problems()"
      ],
      "execution_count": 7,
      "outputs": [
        {
          "output_type": "execute_result",
          "data": {
            "text/plain": [
              "{'DiagnosisPrediction',\n",
              " 'LengthOfStay',\n",
              " 'MissedAppointment',\n",
              " 'MortalityPrediction',\n",
              " 'ProlongedLengthOfStay',\n",
              " 'Readmission'}"
            ]
          },
          "metadata": {},
          "execution_count": 7
        }
      ]
    },
    {
      "cell_type": "code",
      "metadata": {
        "id": "G4zjq-rnxmTL"
      },
      "source": [
        "# select problem\n",
        "label_times = cd.select_problem('MissedAppointment')"
      ],
      "execution_count": 8,
      "outputs": []
    },
    {
      "cell_type": "code",
      "metadata": {
        "colab": {
          "base_uri": "https://localhost:8080/",
          "height": 295
        },
        "id": "ztHigIeZxn1W",
        "outputId": "dca3b603-41e9-4c0d-88ec-4a0a6896d0f1"
      },
      "source": [
        "# feature engineering\n",
        "feature_matrix = cd.generate_features(label_times[:1000]) # takes a while for the full dataset\n",
        "feature_matrix.head(5)"
      ],
      "execution_count": 9,
      "outputs": [
        {
          "output_type": "stream",
          "name": "stdout",
          "text": [
            "Built 13 features\n",
            "Elapsed: 00:30 | Progress: 100%|██████████\n"
          ]
        },
        {
          "output_type": "execute_result",
          "data": {
            "text/html": [
              "<div>\n",
              "<style scoped>\n",
              "    .dataframe tbody tr th:only-of-type {\n",
              "        vertical-align: middle;\n",
              "    }\n",
              "\n",
              "    .dataframe tbody tr th {\n",
              "        vertical-align: top;\n",
              "    }\n",
              "\n",
              "    .dataframe thead th {\n",
              "        text-align: right;\n",
              "    }\n",
              "</style>\n",
              "<table border=\"1\" class=\"dataframe\">\n",
              "  <thead>\n",
              "    <tr style=\"text-align: right;\">\n",
              "      <th></th>\n",
              "      <th>participant = 2680425062</th>\n",
              "      <th>participant = 4275143764</th>\n",
              "      <th>participant = 2615334244</th>\n",
              "      <th>participant = 2410824900</th>\n",
              "      <th>participant = 2406221984</th>\n",
              "      <th>participant = 1868414665</th>\n",
              "      <th>participant = 1692482157</th>\n",
              "      <th>participant = 1125465544</th>\n",
              "      <th>participant = 846537388</th>\n",
              "      <th>participant = 4121228070</th>\n",
              "      <th>participant is unknown</th>\n",
              "      <th>DAY(created) = 29</th>\n",
              "      <th>DAY(created) = 28</th>\n",
              "      <th>DAY(created) = 27</th>\n",
              "      <th>DAY(created) = 18</th>\n",
              "      <th>DAY(created) = 15</th>\n",
              "      <th>DAY(created) = 26</th>\n",
              "      <th>DAY(created) = 25</th>\n",
              "      <th>DAY(created) = 5</th>\n",
              "      <th>DAY(created) = 1</th>\n",
              "      <th>DAY(created) = 8</th>\n",
              "      <th>DAY(created) is unknown</th>\n",
              "      <th>DAY(start) = 29</th>\n",
              "      <th>DAY(start) is unknown</th>\n",
              "      <th>IS_WEEKEND(created)</th>\n",
              "      <th>IS_WEEKEND(start)</th>\n",
              "      <th>MONTH(created) = 4</th>\n",
              "      <th>MONTH(created) = 3</th>\n",
              "      <th>MONTH(created) = 2</th>\n",
              "      <th>MONTH(created) = 1</th>\n",
              "      <th>MONTH(created) is unknown</th>\n",
              "      <th>MONTH(start) = 4</th>\n",
              "      <th>MONTH(start) is unknown</th>\n",
              "      <th>WEEKDAY(created) = 4</th>\n",
              "      <th>WEEKDAY(created) = 2</th>\n",
              "      <th>WEEKDAY(created) = 1</th>\n",
              "      <th>WEEKDAY(created) = 3</th>\n",
              "      <th>WEEKDAY(created) = 0</th>\n",
              "      <th>WEEKDAY(created) is unknown</th>\n",
              "      <th>WEEKDAY(start) = 4</th>\n",
              "      <th>WEEKDAY(start) is unknown</th>\n",
              "      <th>YEAR(created) = 2016</th>\n",
              "      <th>YEAR(created) is unknown</th>\n",
              "      <th>YEAR(start) = 2016</th>\n",
              "      <th>YEAR(start) is unknown</th>\n",
              "      <th>Appointment_Participant.actor = 74200000000000</th>\n",
              "      <th>Appointment_Participant.actor = 713000000000000</th>\n",
              "      <th>Appointment_Participant.actor = 41400000000000</th>\n",
              "      <th>Appointment_Participant.actor = 28200000000000</th>\n",
              "      <th>Appointment_Participant.actor = 7270000000000</th>\n",
              "      <th>Appointment_Participant.actor = 7230000000000</th>\n",
              "      <th>Appointment_Participant.actor = 4920000000000</th>\n",
              "      <th>Appointment_Participant.actor = 3880000000000</th>\n",
              "      <th>Appointment_Participant.actor = 2760000000000</th>\n",
              "      <th>Appointment_Participant.actor = 735000000000000</th>\n",
              "      <th>Appointment_Participant.actor is unknown</th>\n",
              "      <th>Appointment_Participant.COUNT(Appointment)</th>\n",
              "      <th>label</th>\n",
              "    </tr>\n",
              "  </thead>\n",
              "  <tbody>\n",
              "    <tr>\n",
              "      <th>0</th>\n",
              "      <td>False</td>\n",
              "      <td>False</td>\n",
              "      <td>False</td>\n",
              "      <td>False</td>\n",
              "      <td>False</td>\n",
              "      <td>False</td>\n",
              "      <td>False</td>\n",
              "      <td>False</td>\n",
              "      <td>False</td>\n",
              "      <td>False</td>\n",
              "      <td>True</td>\n",
              "      <td>True</td>\n",
              "      <td>False</td>\n",
              "      <td>False</td>\n",
              "      <td>False</td>\n",
              "      <td>False</td>\n",
              "      <td>False</td>\n",
              "      <td>False</td>\n",
              "      <td>False</td>\n",
              "      <td>False</td>\n",
              "      <td>False</td>\n",
              "      <td>False</td>\n",
              "      <td>True</td>\n",
              "      <td>False</td>\n",
              "      <td>False</td>\n",
              "      <td>False</td>\n",
              "      <td>True</td>\n",
              "      <td>False</td>\n",
              "      <td>False</td>\n",
              "      <td>False</td>\n",
              "      <td>False</td>\n",
              "      <td>True</td>\n",
              "      <td>False</td>\n",
              "      <td>True</td>\n",
              "      <td>False</td>\n",
              "      <td>False</td>\n",
              "      <td>False</td>\n",
              "      <td>False</td>\n",
              "      <td>False</td>\n",
              "      <td>True</td>\n",
              "      <td>False</td>\n",
              "      <td>True</td>\n",
              "      <td>False</td>\n",
              "      <td>True</td>\n",
              "      <td>False</td>\n",
              "      <td>False</td>\n",
              "      <td>False</td>\n",
              "      <td>False</td>\n",
              "      <td>False</td>\n",
              "      <td>False</td>\n",
              "      <td>False</td>\n",
              "      <td>False</td>\n",
              "      <td>False</td>\n",
              "      <td>False</td>\n",
              "      <td>False</td>\n",
              "      <td>True</td>\n",
              "      <td>39</td>\n",
              "      <td>noshow</td>\n",
              "    </tr>\n",
              "    <tr>\n",
              "      <th>1</th>\n",
              "      <td>False</td>\n",
              "      <td>False</td>\n",
              "      <td>False</td>\n",
              "      <td>False</td>\n",
              "      <td>False</td>\n",
              "      <td>False</td>\n",
              "      <td>False</td>\n",
              "      <td>False</td>\n",
              "      <td>False</td>\n",
              "      <td>False</td>\n",
              "      <td>True</td>\n",
              "      <td>True</td>\n",
              "      <td>False</td>\n",
              "      <td>False</td>\n",
              "      <td>False</td>\n",
              "      <td>False</td>\n",
              "      <td>False</td>\n",
              "      <td>False</td>\n",
              "      <td>False</td>\n",
              "      <td>False</td>\n",
              "      <td>False</td>\n",
              "      <td>False</td>\n",
              "      <td>True</td>\n",
              "      <td>False</td>\n",
              "      <td>False</td>\n",
              "      <td>False</td>\n",
              "      <td>True</td>\n",
              "      <td>False</td>\n",
              "      <td>False</td>\n",
              "      <td>False</td>\n",
              "      <td>False</td>\n",
              "      <td>True</td>\n",
              "      <td>False</td>\n",
              "      <td>True</td>\n",
              "      <td>False</td>\n",
              "      <td>False</td>\n",
              "      <td>False</td>\n",
              "      <td>False</td>\n",
              "      <td>False</td>\n",
              "      <td>True</td>\n",
              "      <td>False</td>\n",
              "      <td>True</td>\n",
              "      <td>False</td>\n",
              "      <td>True</td>\n",
              "      <td>False</td>\n",
              "      <td>False</td>\n",
              "      <td>False</td>\n",
              "      <td>False</td>\n",
              "      <td>False</td>\n",
              "      <td>False</td>\n",
              "      <td>False</td>\n",
              "      <td>False</td>\n",
              "      <td>False</td>\n",
              "      <td>False</td>\n",
              "      <td>False</td>\n",
              "      <td>True</td>\n",
              "      <td>27</td>\n",
              "      <td>noshow</td>\n",
              "    </tr>\n",
              "    <tr>\n",
              "      <th>2</th>\n",
              "      <td>False</td>\n",
              "      <td>False</td>\n",
              "      <td>False</td>\n",
              "      <td>False</td>\n",
              "      <td>False</td>\n",
              "      <td>False</td>\n",
              "      <td>False</td>\n",
              "      <td>False</td>\n",
              "      <td>False</td>\n",
              "      <td>False</td>\n",
              "      <td>True</td>\n",
              "      <td>True</td>\n",
              "      <td>False</td>\n",
              "      <td>False</td>\n",
              "      <td>False</td>\n",
              "      <td>False</td>\n",
              "      <td>False</td>\n",
              "      <td>False</td>\n",
              "      <td>False</td>\n",
              "      <td>False</td>\n",
              "      <td>False</td>\n",
              "      <td>False</td>\n",
              "      <td>True</td>\n",
              "      <td>False</td>\n",
              "      <td>False</td>\n",
              "      <td>False</td>\n",
              "      <td>True</td>\n",
              "      <td>False</td>\n",
              "      <td>False</td>\n",
              "      <td>False</td>\n",
              "      <td>False</td>\n",
              "      <td>True</td>\n",
              "      <td>False</td>\n",
              "      <td>True</td>\n",
              "      <td>False</td>\n",
              "      <td>False</td>\n",
              "      <td>False</td>\n",
              "      <td>False</td>\n",
              "      <td>False</td>\n",
              "      <td>True</td>\n",
              "      <td>False</td>\n",
              "      <td>True</td>\n",
              "      <td>False</td>\n",
              "      <td>True</td>\n",
              "      <td>False</td>\n",
              "      <td>False</td>\n",
              "      <td>False</td>\n",
              "      <td>False</td>\n",
              "      <td>False</td>\n",
              "      <td>False</td>\n",
              "      <td>False</td>\n",
              "      <td>False</td>\n",
              "      <td>False</td>\n",
              "      <td>False</td>\n",
              "      <td>False</td>\n",
              "      <td>True</td>\n",
              "      <td>55</td>\n",
              "      <td>noshow</td>\n",
              "    </tr>\n",
              "    <tr>\n",
              "      <th>3</th>\n",
              "      <td>False</td>\n",
              "      <td>False</td>\n",
              "      <td>False</td>\n",
              "      <td>False</td>\n",
              "      <td>False</td>\n",
              "      <td>False</td>\n",
              "      <td>False</td>\n",
              "      <td>False</td>\n",
              "      <td>False</td>\n",
              "      <td>False</td>\n",
              "      <td>True</td>\n",
              "      <td>True</td>\n",
              "      <td>False</td>\n",
              "      <td>False</td>\n",
              "      <td>False</td>\n",
              "      <td>False</td>\n",
              "      <td>False</td>\n",
              "      <td>False</td>\n",
              "      <td>False</td>\n",
              "      <td>False</td>\n",
              "      <td>False</td>\n",
              "      <td>False</td>\n",
              "      <td>True</td>\n",
              "      <td>False</td>\n",
              "      <td>False</td>\n",
              "      <td>False</td>\n",
              "      <td>True</td>\n",
              "      <td>False</td>\n",
              "      <td>False</td>\n",
              "      <td>False</td>\n",
              "      <td>False</td>\n",
              "      <td>True</td>\n",
              "      <td>False</td>\n",
              "      <td>True</td>\n",
              "      <td>False</td>\n",
              "      <td>False</td>\n",
              "      <td>False</td>\n",
              "      <td>False</td>\n",
              "      <td>False</td>\n",
              "      <td>True</td>\n",
              "      <td>False</td>\n",
              "      <td>True</td>\n",
              "      <td>False</td>\n",
              "      <td>True</td>\n",
              "      <td>False</td>\n",
              "      <td>False</td>\n",
              "      <td>False</td>\n",
              "      <td>False</td>\n",
              "      <td>False</td>\n",
              "      <td>False</td>\n",
              "      <td>False</td>\n",
              "      <td>False</td>\n",
              "      <td>False</td>\n",
              "      <td>False</td>\n",
              "      <td>False</td>\n",
              "      <td>True</td>\n",
              "      <td>39</td>\n",
              "      <td>noshow</td>\n",
              "    </tr>\n",
              "    <tr>\n",
              "      <th>4</th>\n",
              "      <td>False</td>\n",
              "      <td>False</td>\n",
              "      <td>False</td>\n",
              "      <td>False</td>\n",
              "      <td>False</td>\n",
              "      <td>False</td>\n",
              "      <td>False</td>\n",
              "      <td>False</td>\n",
              "      <td>False</td>\n",
              "      <td>False</td>\n",
              "      <td>True</td>\n",
              "      <td>True</td>\n",
              "      <td>False</td>\n",
              "      <td>False</td>\n",
              "      <td>False</td>\n",
              "      <td>False</td>\n",
              "      <td>False</td>\n",
              "      <td>False</td>\n",
              "      <td>False</td>\n",
              "      <td>False</td>\n",
              "      <td>False</td>\n",
              "      <td>False</td>\n",
              "      <td>True</td>\n",
              "      <td>False</td>\n",
              "      <td>False</td>\n",
              "      <td>False</td>\n",
              "      <td>True</td>\n",
              "      <td>False</td>\n",
              "      <td>False</td>\n",
              "      <td>False</td>\n",
              "      <td>False</td>\n",
              "      <td>True</td>\n",
              "      <td>False</td>\n",
              "      <td>True</td>\n",
              "      <td>False</td>\n",
              "      <td>False</td>\n",
              "      <td>False</td>\n",
              "      <td>False</td>\n",
              "      <td>False</td>\n",
              "      <td>True</td>\n",
              "      <td>False</td>\n",
              "      <td>True</td>\n",
              "      <td>False</td>\n",
              "      <td>True</td>\n",
              "      <td>False</td>\n",
              "      <td>False</td>\n",
              "      <td>False</td>\n",
              "      <td>False</td>\n",
              "      <td>False</td>\n",
              "      <td>False</td>\n",
              "      <td>False</td>\n",
              "      <td>False</td>\n",
              "      <td>False</td>\n",
              "      <td>False</td>\n",
              "      <td>False</td>\n",
              "      <td>True</td>\n",
              "      <td>28</td>\n",
              "      <td>noshow</td>\n",
              "    </tr>\n",
              "  </tbody>\n",
              "</table>\n",
              "</div>"
            ],
            "text/plain": [
              "   participant = 2680425062  ...   label\n",
              "0                     False  ...  noshow\n",
              "1                     False  ...  noshow\n",
              "2                     False  ...  noshow\n",
              "3                     False  ...  noshow\n",
              "4                     False  ...  noshow\n",
              "\n",
              "[5 rows x 58 columns]"
            ]
          },
          "metadata": {},
          "execution_count": 9
        }
      ]
    },
    {
      "cell_type": "code",
      "metadata": {
        "id": "NJSdjm13xqtD",
        "colab": {
          "base_uri": "https://localhost:8080/"
        },
        "outputId": "3674efe9-422a-4603-ef27-d283a27e8ff9"
      },
      "source": [
        "from sklearn import preprocessing\n",
        "from collections import Counter\n",
        "# shuffle the dataframe\n",
        "feature_matrix = feature_matrix.sample(frac=1)\n",
        "\n",
        "label = list(feature_matrix.pop('label'))\n",
        "target = preprocessing.LabelEncoder()\n",
        "target.fit(label) \n",
        "y= target.transform(label) #representing class dengan sklearn\n",
        "\n",
        "# pop the target labels\n",
        "\n",
        "X = feature_matrix.values\n",
        "\n",
        "X_train, X_test, y_train, y_test = cd.train_test_split(X, y, test_size=0.5, shuffle=True)\n",
        "\n",
        "\n",
        "\n",
        "print('Resampled dataset shape %s' % Counter(y_train))"
      ],
      "execution_count": 10,
      "outputs": [
        {
          "output_type": "stream",
          "name": "stdout",
          "text": [
            "Resampled dataset shape Counter({1: 425, 0: 75})\n"
          ]
        }
      ]
    },
    {
      "cell_type": "code",
      "source": [
        "gnb = GaussianNB().fit(X_train, y_train)\n",
        "y_test_pred = gnb.predict(X_test)\n",
        "print(classification_report(y_test , y_test_pred))"
      ],
      "metadata": {
        "colab": {
          "base_uri": "https://localhost:8080/"
        },
        "id": "Vj0_ToFHJHd4",
        "outputId": "7a0692e7-97a7-4cc7-be5e-17850d9c0bb3"
      },
      "execution_count": 11,
      "outputs": [
        {
          "output_type": "stream",
          "name": "stdout",
          "text": [
            "              precision    recall  f1-score   support\n",
            "\n",
            "           0       0.20      0.98      0.33        96\n",
            "           1       0.89      0.04      0.08       404\n",
            "\n",
            "    accuracy                           0.22       500\n",
            "   macro avg       0.54      0.51      0.20       500\n",
            "weighted avg       0.76      0.22      0.12       500\n",
            "\n"
          ]
        }
      ]
    },
    {
      "cell_type": "markdown",
      "metadata": {
        "id": "6IJM6wx_WMR0"
      },
      "source": [
        "# **Pengujian Pipeline**"
      ]
    },
    {
      "cell_type": "markdown",
      "metadata": {
        "id": "K7w1ohKYWVC6"
      },
      "source": [
        "##**Modeling**"
      ]
    },
    {
      "cell_type": "code",
      "metadata": {
        "id": "J17miH1mxsjc"
      },
      "source": [
        "cd.select_pipeline('Random Forest')\n",
        "cd.fit(X_train, y_train)\n",
        "y_pred = cd.predict(X_test) # Dijadikan komentar karena keberadaannya terdapat pada baris code asli milik Author, namun tidak memengaruhi baris code dari hasil modifikasi"
      ],
      "execution_count": 12,
      "outputs": []
    },
    {
      "cell_type": "code",
      "metadata": {
        "id": "mgp8x_4ExtZJ",
        "colab": {
          "base_uri": "https://localhost:8080/"
        },
        "outputId": "89f16587-b2b7-4546-fd4f-610225918364"
      },
      "source": [
        "cd.evaluate(X_test, y_test, test_size=0.2, shuffle=True)"
      ],
      "execution_count": 13,
      "outputs": [
        {
          "output_type": "execute_result",
          "data": {
            "text/plain": [
              "{'Accuracy': 0.7, 'Confusion Matrix': array([[ 3, 16],\n",
              "        [14, 67]]), 'F1 Macro': 0.49186991869918706, 'Precision': 0.4918497519489724, 'Recall': 0.49252761533463285}"
            ]
          },
          "metadata": {},
          "execution_count": 13
        }
      ]
    },
    {
      "cell_type": "markdown",
      "metadata": {
        "id": "JmqS5OjmWcNS"
      },
      "source": [
        "## **Modeling 1**"
      ]
    },
    {
      "cell_type": "code",
      "metadata": {
        "id": "aWJGfBqMxu51"
      },
      "source": [
        "cd.select_pipeline('Logistic Regression')\n",
        "cd.fit(X_train, y_train)\n",
        "# y_pred = cd.predict(X_test) # Dijadikan komentar karena keberadaannya terdapat pada baris code asli milik Author, namun tidak memengaruhi baris code dari hasil modifikasi"
      ],
      "execution_count": 14,
      "outputs": []
    },
    {
      "cell_type": "code",
      "metadata": {
        "id": "G3lGFOBexwYq",
        "colab": {
          "base_uri": "https://localhost:8080/"
        },
        "outputId": "2aef3f43-ebe6-40ab-8319-94c965831f33"
      },
      "source": [
        "cd.evaluate(X_test, y_test, test_size=0.2, shuffle=True)"
      ],
      "execution_count": 15,
      "outputs": [
        {
          "output_type": "execute_result",
          "data": {
            "text/plain": [
              "{'Accuracy': 0.9, 'Confusion Matrix': array([[ 0, 10],\n",
              "        [ 0, 90]]), 'F1 Macro': 0.4736842105263158, 'Precision': 0.45, 'Recall': 0.5}"
            ]
          },
          "metadata": {},
          "execution_count": 15
        }
      ]
    },
    {
      "cell_type": "markdown",
      "metadata": {
        "id": "50lpHKv0W_gr"
      },
      "source": [
        "## **Modeling 2**"
      ]
    },
    {
      "cell_type": "code",
      "metadata": {
        "id": "5isjwHevwsEZ"
      },
      "source": [
        "cd.select_pipeline('Gaussian Naive Bayes')\n",
        "cd.fit(X_train, y_train)\n",
        "y_pred = cd.predict(X_test) # Dijadikan komentar karena keberadaannya terdapat pada baris code asli milik Author, namun tidak memengaruhi baris code dari hasil modifikasi"
      ],
      "execution_count": 16,
      "outputs": []
    },
    {
      "cell_type": "code",
      "metadata": {
        "id": "5KD7T-PkwsEd",
        "colab": {
          "base_uri": "https://localhost:8080/"
        },
        "outputId": "9de564f6-badc-4fdc-cd25-c0e17f0ce55d"
      },
      "source": [
        "cd.evaluate(y_test, y_pred)"
      ],
      "execution_count": 17,
      "outputs": [
        {
          "output_type": "execute_result",
          "data": {
            "text/plain": [
              "{'Accuracy': 0.98, 'Confusion Matrix': array([[98,  0],\n",
              "        [ 2,  0]]), 'F1 Macro': 0.494949494949495, 'Precision': 0.49, 'Recall': 0.5}"
            ]
          },
          "metadata": {},
          "execution_count": 17
        }
      ]
    },
    {
      "cell_type": "markdown",
      "metadata": {
        "id": "134UJkSnXEaK"
      },
      "source": [
        "## **Modeling 3**"
      ]
    },
    {
      "cell_type": "code",
      "metadata": {
        "id": "oJAsUsQRwszz"
      },
      "source": [
        "cd.select_pipeline('Gradient Boosting')\n",
        "cd.fit(X_train, y_train)\n",
        "# y_pred = cd.predict(X_test) # Dijadikan komentar karena keberadaannya terdapat pada baris code asli milik Author, namun tidak memengaruhi baris code dari hasil modifikasi"
      ],
      "execution_count": 18,
      "outputs": []
    },
    {
      "cell_type": "code",
      "metadata": {
        "id": "zHuJqMfHwzmx",
        "colab": {
          "base_uri": "https://localhost:8080/"
        },
        "outputId": "fb07cc86-59a2-48d8-9906-7b49f8e1ec80"
      },
      "source": [
        "cd.evaluate(X_test, y_test, test_size=0.2, shuffle=True)"
      ],
      "execution_count": 19,
      "outputs": [
        {
          "output_type": "execute_result",
          "data": {
            "text/plain": [
              "{'Accuracy': 0.79, 'Confusion Matrix': array([[ 0, 21],\n",
              "        [ 0, 79]]), 'F1 Macro': 0.44134078212290506, 'Precision': 0.395, 'Recall': 0.5}"
            ]
          },
          "metadata": {},
          "execution_count": 19
        }
      ]
    },
    {
      "cell_type": "markdown",
      "metadata": {
        "id": "XrYEdBqPXIh7"
      },
      "source": [
        "## **Modeling 4**"
      ]
    },
    {
      "cell_type": "code",
      "metadata": {
        "id": "kxTZ_oawwvkr"
      },
      "source": [
        "cd.select_pipeline('K-Nearest Neightbors')\n",
        "cd.fit(X_train, y_train)\n",
        "# y_pred = cd.predict(X_test) # Dijadikan komentar karena keberadaannya terdapat pada baris code asli milik Author, namun tidak memengaruhi baris code dari hasil modifikasi"
      ],
      "execution_count": 20,
      "outputs": []
    },
    {
      "cell_type": "code",
      "metadata": {
        "id": "e4jF_Oo6wsz0",
        "colab": {
          "base_uri": "https://localhost:8080/"
        },
        "outputId": "bb385c7e-8930-4f09-b89a-ad5fe3df7af3"
      },
      "source": [
        "cd.evaluate(X_test, y_test, test_size=0.2, shuffle=True)"
      ],
      "execution_count": 21,
      "outputs": [
        {
          "output_type": "execute_result",
          "data": {
            "text/plain": [
              "{'Accuracy': 0.81, 'Confusion Matrix': array([[ 2, 16],\n",
              "        [ 3, 79]]), 'F1 Macro': 0.5332842053549497, 'Precision': 0.6157894736842106, 'Recall': 0.5372628726287263}"
            ]
          },
          "metadata": {},
          "execution_count": 21
        }
      ]
    },
    {
      "cell_type": "markdown",
      "metadata": {
        "id": "ZndANxkzXPOc"
      },
      "source": [
        "## **Modeling 5**"
      ]
    },
    {
      "cell_type": "code",
      "metadata": {
        "id": "MlmYmSC2w9pp"
      },
      "source": [
        "cd.select_pipeline('Multinomial Naive Bayes')\n",
        "cd.fit(X_train, y_train)\n",
        "# y_pred = cd.predict(X_test) # Dijadikan komentar karena keberadaannya terdapat pada baris code asli milik Author, namun tidak memengaruhi baris code dari hasil modifikasi"
      ],
      "execution_count": 22,
      "outputs": []
    },
    {
      "cell_type": "code",
      "metadata": {
        "id": "e37yogBfw9pq",
        "colab": {
          "base_uri": "https://localhost:8080/"
        },
        "outputId": "838d290e-0372-4d9f-b292-67f86acec25f"
      },
      "source": [
        "cd.evaluate(X_test, y_test, test_size=0.2, shuffle=True)"
      ],
      "execution_count": 23,
      "outputs": [
        {
          "output_type": "execute_result",
          "data": {
            "text/plain": [
              "{'Accuracy': 0.69, 'Confusion Matrix': array([[ 4, 14],\n",
              "        [17, 65]]), 'F1 Macro': 0.5062908106386368, 'Precision': 0.5066305003013865, 'Recall': 0.5074525745257452}"
            ]
          },
          "metadata": {},
          "execution_count": 23
        }
      ]
    },
    {
      "cell_type": "markdown",
      "metadata": {
        "id": "N2HHX2ZGXZsy"
      },
      "source": [
        "## **Modeling 6**"
      ]
    },
    {
      "cell_type": "code",
      "metadata": {
        "id": "LYGzp83tw_SE"
      },
      "source": [
        "# modeling6\n",
        "cd.select_pipeline('Stochastic Gradient Descent')\n",
        "cd.fit(X_train, y_train)\n",
        "# y_pred = cd.predict(X_test) # Dijadikan komentar karena keberadaannya terdapat pada baris code asli milik Author, namun tidak memengaruhi baris code dari hasil modifikasi"
      ],
      "execution_count": 24,
      "outputs": []
    },
    {
      "cell_type": "code",
      "metadata": {
        "id": "RGAS2JLOw_SE",
        "colab": {
          "base_uri": "https://localhost:8080/"
        },
        "outputId": "47f514a9-9ace-4f25-e6e5-a91bbe8a0ad1"
      },
      "source": [
        "cd.evaluate(X_test, y_test, test_size=0.2, shuffle=True)"
      ],
      "execution_count": 25,
      "outputs": [
        {
          "output_type": "execute_result",
          "data": {
            "text/plain": [
              "{'Accuracy': 0.72, 'Confusion Matrix': array([[ 4, 14],\n",
              "        [14, 68]]), 'F1 Macro': 0.5257452574525745, 'Precision': 0.5257452574525745, 'Recall': 0.5257452574525745}"
            ]
          },
          "metadata": {},
          "execution_count": 25
        }
      ]
    },
    {
      "cell_type": "markdown",
      "metadata": {
        "id": "usbqqs2UXjJq"
      },
      "source": [
        "## **Modeling 7**"
      ]
    },
    {
      "cell_type": "code",
      "metadata": {
        "id": "kLybGfWExOEC"
      },
      "source": [
        "# modeling7\n",
        "cd.select_pipeline('XGB')\n",
        "cd.fit(X_train, y_train)\n",
        "# y_pred = cd.predict(X_test) # Dijadikan komentar karena keberadaannya terdapat pada baris code asli milik Author, namun tidak memengaruhi baris code dari hasil modifikasi"
      ],
      "execution_count": 26,
      "outputs": []
    },
    {
      "cell_type": "code",
      "metadata": {
        "id": "bJngrVqmxOED",
        "colab": {
          "base_uri": "https://localhost:8080/"
        },
        "outputId": "d04551a8-fa06-4987-ce26-8cca95a804ac"
      },
      "source": [
        "cd.evaluate(X_test, y_test, test_size=0.2, shuffle=True)"
      ],
      "execution_count": 27,
      "outputs": [
        {
          "output_type": "execute_result",
          "data": {
            "text/plain": [
              "{'Accuracy': 0.74, 'Confusion Matrix': array([[ 2, 21],\n",
              "        [ 5, 72]]), 'F1 Macro': 0.4901960784313725, 'Precision': 0.5299539170506913, 'Recall': 0.5110107284020328}"
            ]
          },
          "metadata": {},
          "execution_count": 27
        }
      ]
    },
    {
      "cell_type": "markdown",
      "metadata": {
        "id": "WMYoAARUXpji"
      },
      "source": [
        "# **Inisiasi Hyperparameter**"
      ]
    },
    {
      "cell_type": "code",
      "metadata": {
        "id": "VkMTjJHLEgFD"
      },
      "source": [
        "param_rf = {'criterion': [\"gini\",\"entropy\"], 'n_estimators': [10, 100, 1000]} # Hyperparameter Random Forest\n",
        "param_lr = {'C': np.logspace(-3,3,5,7), 'penalty': [\"l1\",\"l2\"], 'fit_intercept': [\"True\", \"False\"]} # Hyperparameter Logistic Regression\n",
        "param_gnb = {'var_smoothing': [1e-9]} # Hyperparameter Gaussian Naive Bayes\n",
        "param_gb = {'learning_rate': [0.001, 0.01, 0.1, 0.3], 'n_estimators': [10, 100, 1000]} #Hyperparameter Gradient Boosting\n",
        "param_knn = {'n_neighbors': [5], 'weights': ['uniform', 'distance'], 'algorithm': ['auto', 'ball_tree', 'kd_tree', 'brute']} # Hyperparameter K-Nearest Neighbors\n",
        "param_mnb = {'alpha': [1.0, 0.01, 0.001], \"fit_prior\": ['True', 'False']} # Hyperparameter Multinomial Naive Bayes\n",
        "param_sgd = {'loss': ['hinge', 'log', 'modified_huber', 'squared_hinge', 'perceptron', 'huber', 'epsilon_insensitive', 'squared_epsilon_insensitive'], 'penalty': ['l2', 'l1', 'elasticnet']} # Hyperparameter Stochastic Gradient Descent\n",
        "param_xgb = {'booster': ['gbtree', 'gblinear']} # Hyperparameter XGboost"
      ],
      "execution_count": 28,
      "outputs": []
    },
    {
      "cell_type": "markdown",
      "metadata": {
        "id": "Ew0zXkvoXzHa"
      },
      "source": [
        "# **Implementasi Grid Search**"
      ]
    },
    {
      "cell_type": "markdown",
      "metadata": {
        "id": "ttyzp6FmX4ID"
      },
      "source": [
        "## **Grid Search Random Forest**"
      ]
    },
    {
      "cell_type": "code",
      "metadata": {
        "id": "T6PXr8nsTgOp",
        "colab": {
          "base_uri": "https://localhost:8080/"
        },
        "outputId": "98ea065c-2c7f-4b1f-b877-7b38bdbd3371"
      },
      "source": [
        "gridsearch = GridSearchCV(RandomForestClassifier(), param_rf, scoring='accuracy')\n",
        "gridsearch.fit(X_train, y_train)"
      ],
      "execution_count": 29,
      "outputs": [
        {
          "output_type": "execute_result",
          "data": {
            "text/plain": [
              "GridSearchCV(cv='warn', error_score='raise-deprecating',\n",
              "             estimator=RandomForestClassifier(bootstrap=True, class_weight=None,\n",
              "                                              criterion='gini', max_depth=None,\n",
              "                                              max_features='auto',\n",
              "                                              max_leaf_nodes=None,\n",
              "                                              min_impurity_decrease=0.0,\n",
              "                                              min_impurity_split=None,\n",
              "                                              min_samples_leaf=1,\n",
              "                                              min_samples_split=2,\n",
              "                                              min_weight_fraction_leaf=0.0,\n",
              "                                              n_estimators='warn', n_jobs=None,\n",
              "                                              oob_score=False,\n",
              "                                              random_state=None, verbose=0,\n",
              "                                              warm_start=False),\n",
              "             iid='warn', n_jobs=None,\n",
              "             param_grid={'criterion': ['gini', 'entropy'],\n",
              "                         'n_estimators': [10, 100, 1000]},\n",
              "             pre_dispatch='2*n_jobs', refit=True, return_train_score=False,\n",
              "             scoring='accuracy', verbose=0)"
            ]
          },
          "metadata": {},
          "execution_count": 29
        }
      ]
    },
    {
      "cell_type": "markdown",
      "metadata": {
        "id": "52vJ0YcVX9qx"
      },
      "source": [
        "## **Grid Search Logistic Regression**"
      ]
    },
    {
      "cell_type": "code",
      "metadata": {
        "id": "FilpFXsHzBHI",
        "colab": {
          "base_uri": "https://localhost:8080/"
        },
        "outputId": "16ee9ade-b9db-4c44-d30b-0b3e500a9824"
      },
      "source": [
        "gridsearch1 = GridSearchCV(LogisticRegression(), param_lr, scoring='accuracy')\n",
        "gridsearch1.fit(X_train, y_train)"
      ],
      "execution_count": 30,
      "outputs": [
        {
          "output_type": "execute_result",
          "data": {
            "text/plain": [
              "GridSearchCV(cv='warn', error_score='raise-deprecating',\n",
              "             estimator=LogisticRegression(C=1.0, class_weight=None, dual=False,\n",
              "                                          fit_intercept=True,\n",
              "                                          intercept_scaling=1, l1_ratio=None,\n",
              "                                          max_iter=100, multi_class='warn',\n",
              "                                          n_jobs=None, penalty='l2',\n",
              "                                          random_state=None, solver='warn',\n",
              "                                          tol=0.0001, verbose=0,\n",
              "                                          warm_start=False),\n",
              "             iid='warn', n_jobs=None,\n",
              "             param_grid={'C': array([1.00000000e-03, 3.16227766e-02, 1.00000000e+00, 3.16227766e+01,\n",
              "       1.00000000e+03]),\n",
              "                         'fit_intercept': ['True', 'False'],\n",
              "                         'penalty': ['l1', 'l2']},\n",
              "             pre_dispatch='2*n_jobs', refit=True, return_train_score=False,\n",
              "             scoring='accuracy', verbose=0)"
            ]
          },
          "metadata": {},
          "execution_count": 30
        }
      ]
    },
    {
      "cell_type": "markdown",
      "metadata": {
        "id": "L__ZnqjcY5vx"
      },
      "source": [
        "## **Grid Search Gaussian Naive Bayes**"
      ]
    },
    {
      "cell_type": "code",
      "metadata": {
        "id": "p1UFgDUjccyb",
        "colab": {
          "base_uri": "https://localhost:8080/"
        },
        "outputId": "750cfd42-45a9-4c68-884d-18d28af630ca"
      },
      "source": [
        "gridsearch2 = GridSearchCV(GaussianNB(), param_gnb, scoring='accuracy')\n",
        "gridsearch2.fit(X_train, y_train)"
      ],
      "execution_count": 31,
      "outputs": [
        {
          "output_type": "execute_result",
          "data": {
            "text/plain": [
              "GridSearchCV(cv='warn', error_score='raise-deprecating',\n",
              "             estimator=GaussianNB(priors=None, var_smoothing=1e-09), iid='warn',\n",
              "             n_jobs=None, param_grid={'var_smoothing': [1e-09]},\n",
              "             pre_dispatch='2*n_jobs', refit=True, return_train_score=False,\n",
              "             scoring='accuracy', verbose=0)"
            ]
          },
          "metadata": {},
          "execution_count": 31
        }
      ]
    },
    {
      "cell_type": "markdown",
      "metadata": {
        "id": "XoXdghdGY_96"
      },
      "source": [
        "## **Grid Search Gradient Boosting**"
      ]
    },
    {
      "cell_type": "code",
      "metadata": {
        "id": "__XSn_ZtMkw7",
        "colab": {
          "base_uri": "https://localhost:8080/"
        },
        "outputId": "a11dca87-1d7e-4491-f116-7e9791c8e4b8"
      },
      "source": [
        "gridsearch3 = GridSearchCV(GradientBoostingClassifier(), param_gb, scoring='accuracy')\n",
        "gridsearch3.fit(X_train, y_train)"
      ],
      "execution_count": 32,
      "outputs": [
        {
          "output_type": "execute_result",
          "data": {
            "text/plain": [
              "GridSearchCV(cv='warn', error_score='raise-deprecating',\n",
              "             estimator=GradientBoostingClassifier(criterion='friedman_mse',\n",
              "                                                  init=None, learning_rate=0.1,\n",
              "                                                  loss='deviance', max_depth=3,\n",
              "                                                  max_features=None,\n",
              "                                                  max_leaf_nodes=None,\n",
              "                                                  min_impurity_decrease=0.0,\n",
              "                                                  min_impurity_split=None,\n",
              "                                                  min_samples_leaf=1,\n",
              "                                                  min_samples_split=2,\n",
              "                                                  min_weight_fraction_leaf=0.0,\n",
              "                                                  n_estimators=100,\n",
              "                                                  n_iter_no_change=None,\n",
              "                                                  presort='auto',\n",
              "                                                  random_state=None,\n",
              "                                                  subsample=1.0, tol=0.0001,\n",
              "                                                  validation_fraction=0.1,\n",
              "                                                  verbose=0, warm_start=False),\n",
              "             iid='warn', n_jobs=None,\n",
              "             param_grid={'learning_rate': [0.001, 0.01, 0.1, 0.3],\n",
              "                         'n_estimators': [10, 100, 1000]},\n",
              "             pre_dispatch='2*n_jobs', refit=True, return_train_score=False,\n",
              "             scoring='accuracy', verbose=0)"
            ]
          },
          "metadata": {},
          "execution_count": 32
        }
      ]
    },
    {
      "cell_type": "markdown",
      "metadata": {
        "id": "vEqqLnfuZDTK"
      },
      "source": [
        "## **Grid Search K-Nearest Neightbors**"
      ]
    },
    {
      "cell_type": "code",
      "metadata": {
        "id": "i2LBBrkC5gBd",
        "colab": {
          "base_uri": "https://localhost:8080/"
        },
        "outputId": "8f239bfb-e71e-4e68-c21b-a99e6f12b7ec"
      },
      "source": [
        "gridsearch4 = GridSearchCV(KNeighborsClassifier(), param_knn, scoring='accuracy')\n",
        "gridsearch4.fit(X_train, y_train)"
      ],
      "execution_count": 33,
      "outputs": [
        {
          "output_type": "execute_result",
          "data": {
            "text/plain": [
              "GridSearchCV(cv='warn', error_score='raise-deprecating',\n",
              "             estimator=KNeighborsClassifier(algorithm='auto', leaf_size=30,\n",
              "                                            metric='minkowski',\n",
              "                                            metric_params=None, n_jobs=None,\n",
              "                                            n_neighbors=5, p=2,\n",
              "                                            weights='uniform'),\n",
              "             iid='warn', n_jobs=None,\n",
              "             param_grid={'algorithm': ['auto', 'ball_tree', 'kd_tree', 'brute'],\n",
              "                         'n_neighbors': [5],\n",
              "                         'weights': ['uniform', 'distance']},\n",
              "             pre_dispatch='2*n_jobs', refit=True, return_train_score=False,\n",
              "             scoring='accuracy', verbose=0)"
            ]
          },
          "metadata": {},
          "execution_count": 33
        }
      ]
    },
    {
      "cell_type": "markdown",
      "metadata": {
        "id": "FqLT4yWAZHIB"
      },
      "source": [
        "## **Grid Search Multinomial Naive Bayes**"
      ]
    },
    {
      "cell_type": "code",
      "metadata": {
        "id": "CflWts8U4w1q",
        "colab": {
          "base_uri": "https://localhost:8080/"
        },
        "outputId": "cd351de0-cf41-4a80-9320-39544a4df8bd"
      },
      "source": [
        "gridsearch5 = GridSearchCV(MultinomialNB(), param_mnb, scoring='accuracy')\n",
        "gridsearch5.fit(X_train, y_train)"
      ],
      "execution_count": 34,
      "outputs": [
        {
          "output_type": "execute_result",
          "data": {
            "text/plain": [
              "GridSearchCV(cv='warn', error_score='raise-deprecating',\n",
              "             estimator=MultinomialNB(alpha=1.0, class_prior=None,\n",
              "                                     fit_prior=True),\n",
              "             iid='warn', n_jobs=None,\n",
              "             param_grid={'alpha': [1.0, 0.01, 0.001],\n",
              "                         'fit_prior': ['True', 'False']},\n",
              "             pre_dispatch='2*n_jobs', refit=True, return_train_score=False,\n",
              "             scoring='accuracy', verbose=0)"
            ]
          },
          "metadata": {},
          "execution_count": 34
        }
      ]
    },
    {
      "cell_type": "markdown",
      "metadata": {
        "id": "WEj2qb-0ZLgL"
      },
      "source": [
        "## **Grid Search Stochastic Gradient Descent**"
      ]
    },
    {
      "cell_type": "code",
      "metadata": {
        "id": "AOqZOQqy5F8N",
        "colab": {
          "base_uri": "https://localhost:8080/"
        },
        "outputId": "cc988dd4-ab29-44fc-b4d3-8eb9637c36bd"
      },
      "source": [
        "gridsearch6 = GridSearchCV(SGDClassifier(), param_sgd, scoring='accuracy')\n",
        "gridsearch6.fit(X_train, y_train)"
      ],
      "execution_count": 35,
      "outputs": [
        {
          "output_type": "execute_result",
          "data": {
            "text/plain": [
              "GridSearchCV(cv='warn', error_score='raise-deprecating',\n",
              "             estimator=SGDClassifier(alpha=0.0001, average=False,\n",
              "                                     class_weight=None, early_stopping=False,\n",
              "                                     epsilon=0.1, eta0=0.0, fit_intercept=True,\n",
              "                                     l1_ratio=0.15, learning_rate='optimal',\n",
              "                                     loss='hinge', max_iter=1000,\n",
              "                                     n_iter_no_change=5, n_jobs=None,\n",
              "                                     penalty='l2', power_t=0.5,\n",
              "                                     random_state=None, shuffle=True, tol=0.001,\n",
              "                                     validation_fraction=0.1, verbose=0,\n",
              "                                     warm_start=False),\n",
              "             iid='warn', n_jobs=None,\n",
              "             param_grid={'loss': ['hinge', 'log', 'modified_huber',\n",
              "                                  'squared_hinge', 'perceptron', 'huber',\n",
              "                                  'epsilon_insensitive',\n",
              "                                  'squared_epsilon_insensitive'],\n",
              "                         'penalty': ['l2', 'l1', 'elasticnet']},\n",
              "             pre_dispatch='2*n_jobs', refit=True, return_train_score=False,\n",
              "             scoring='accuracy', verbose=0)"
            ]
          },
          "metadata": {},
          "execution_count": 35
        }
      ]
    },
    {
      "cell_type": "markdown",
      "metadata": {
        "id": "jz7-RXjmZXiI"
      },
      "source": [
        "## **Grid Search XGBoost**"
      ]
    },
    {
      "cell_type": "code",
      "metadata": {
        "id": "ml4v21h75Gvn",
        "colab": {
          "base_uri": "https://localhost:8080/"
        },
        "outputId": "9ccf85a0-1766-4504-b5b5-e705c6e38684"
      },
      "source": [
        "gridsearch7 = GridSearchCV(XGBClassifier(), param_xgb, scoring='accuracy')\n",
        "gridsearch7.fit(X_train, y_train)"
      ],
      "execution_count": 36,
      "outputs": [
        {
          "output_type": "execute_result",
          "data": {
            "text/plain": [
              "GridSearchCV(cv='warn', error_score='raise-deprecating',\n",
              "             estimator=XGBClassifier(base_score=0.5, booster='gbtree',\n",
              "                                     colsample_bylevel=1, colsample_bynode=1,\n",
              "                                     colsample_bytree=1, gamma=0,\n",
              "                                     learning_rate=0.1, max_delta_step=0,\n",
              "                                     max_depth=3, min_child_weight=1,\n",
              "                                     missing=None, n_estimators=100, n_jobs=1,\n",
              "                                     nthread=None, objective='binary:logistic',\n",
              "                                     random_state=0, reg_alpha=0, reg_lambda=1,\n",
              "                                     scale_pos_weight=1, seed=None, silent=None,\n",
              "                                     subsample=1, verbosity=1),\n",
              "             iid='warn', n_jobs=None,\n",
              "             param_grid={'booster': ['gbtree', 'gblinear']},\n",
              "             pre_dispatch='2*n_jobs', refit=True, return_train_score=False,\n",
              "             scoring='accuracy', verbose=0)"
            ]
          },
          "metadata": {},
          "execution_count": 36
        }
      ]
    },
    {
      "cell_type": "markdown",
      "metadata": {
        "id": "myO9L_GbZcgx"
      },
      "source": [
        "# **Hasil Grid Search**"
      ]
    },
    {
      "cell_type": "code",
      "metadata": {
        "id": "ezwlMzJNEZuF",
        "colab": {
          "base_uri": "https://localhost:8080/"
        },
        "outputId": "3fd801a8-70ad-4e68-aec7-efb42587c24f"
      },
      "source": [
        "print (gridsearch.best_params_) # RF\n",
        "print(gridsearch1.best_params_) # LR\n",
        "print(gridsearch2.best_params_) # GNB\n",
        "print(gridsearch3.best_params_) # GB\n",
        "print(gridsearch4.best_params_) # KNN\n",
        "print(gridsearch5.best_params_) # MNB\n",
        "print(gridsearch6.best_params_) # SGD\n",
        "print(gridsearch7.best_params_) # XGB"
      ],
      "execution_count": 37,
      "outputs": [
        {
          "output_type": "stream",
          "name": "stdout",
          "text": [
            "{'criterion': 'gini', 'n_estimators': 10}\n",
            "{'C': 1.0, 'fit_intercept': 'True', 'penalty': 'l2'}\n",
            "{'var_smoothing': 1e-09}\n",
            "{'learning_rate': 0.001, 'n_estimators': 10}\n",
            "{'algorithm': 'auto', 'n_neighbors': 5, 'weights': 'uniform'}\n",
            "{'alpha': 1.0, 'fit_prior': 'True'}\n",
            "{'loss': 'log', 'penalty': 'l2'}\n",
            "{'booster': 'gblinear'}\n"
          ]
        }
      ]
    },
    {
      "cell_type": "markdown",
      "metadata": {
        "id": "QG3lAPaiZk0A"
      },
      "source": [
        "# **Implementasi Hyperparameter Berdasarkan Hasil Grid Search**"
      ]
    },
    {
      "cell_type": "markdown",
      "metadata": {
        "id": "CZ5GhPVjZqF4"
      },
      "source": [
        "## **Random Forest**"
      ]
    },
    {
      "cell_type": "code",
      "metadata": {
        "id": "OCcfvdykFI_l",
        "colab": {
          "base_uri": "https://localhost:8080/"
        },
        "outputId": "928a5e26-d056-4f98-ea83-99dad765e5bd"
      },
      "source": [
        "rf = RandomForestClassifier(**gridsearch.best_params_).fit(X_train, y_train)\n",
        "y_test_pred = rf.predict(X_test)\n",
        "print(classification_report(y_test , y_test_pred))"
      ],
      "execution_count": 38,
      "outputs": [
        {
          "output_type": "stream",
          "name": "stdout",
          "text": [
            "              precision    recall  f1-score   support\n",
            "\n",
            "           0       0.34      0.27      0.30        96\n",
            "           1       0.83      0.88      0.86       404\n",
            "\n",
            "    accuracy                           0.76       500\n",
            "   macro avg       0.59      0.57      0.58       500\n",
            "weighted avg       0.74      0.76      0.75       500\n",
            "\n"
          ]
        }
      ]
    },
    {
      "cell_type": "markdown",
      "metadata": {
        "id": "S2Hf22vUZugY"
      },
      "source": [
        "## **Logistic Regression**"
      ]
    },
    {
      "cell_type": "code",
      "metadata": {
        "id": "cLnPdZe6HBej",
        "colab": {
          "base_uri": "https://localhost:8080/"
        },
        "outputId": "8dca33e8-25be-4df2-fd49-a1fb73d3012f"
      },
      "source": [
        "lr = LogisticRegression(**gridsearch1.best_params_).fit(X_train, y_train)\n",
        "y_test_pred = lr.predict(X_test)\n",
        "print(classification_report(y_test , y_test_pred))"
      ],
      "execution_count": 39,
      "outputs": [
        {
          "output_type": "stream",
          "name": "stdout",
          "text": [
            "              precision    recall  f1-score   support\n",
            "\n",
            "           0       0.00      0.00      0.00        96\n",
            "           1       0.81      0.99      0.89       404\n",
            "\n",
            "    accuracy                           0.80       500\n",
            "   macro avg       0.40      0.50      0.45       500\n",
            "weighted avg       0.65      0.80      0.72       500\n",
            "\n"
          ]
        }
      ]
    },
    {
      "cell_type": "markdown",
      "metadata": {
        "id": "C5-WKfgFZxov"
      },
      "source": [
        "## **Gaussian Naive Bayes**"
      ]
    },
    {
      "cell_type": "code",
      "metadata": {
        "id": "OCqNeHJQHFQR",
        "colab": {
          "base_uri": "https://localhost:8080/"
        },
        "outputId": "827e590e-c495-414d-f20d-85e65cb56c7d"
      },
      "source": [
        "gnb = GaussianNB().fit(X_train, y_train)\n",
        "y_test_pred = gnb.predict(X_test)\n",
        "print(classification_report(y_test , y_test_pred))"
      ],
      "execution_count": 40,
      "outputs": [
        {
          "output_type": "stream",
          "name": "stdout",
          "text": [
            "              precision    recall  f1-score   support\n",
            "\n",
            "           0       0.20      0.98      0.33        96\n",
            "           1       0.89      0.04      0.08       404\n",
            "\n",
            "    accuracy                           0.22       500\n",
            "   macro avg       0.54      0.51      0.20       500\n",
            "weighted avg       0.76      0.22      0.12       500\n",
            "\n"
          ]
        }
      ]
    },
    {
      "cell_type": "markdown",
      "metadata": {
        "id": "zLfGRDCSZ1gY"
      },
      "source": [
        "## **Gradient Boosting**"
      ]
    },
    {
      "cell_type": "code",
      "metadata": {
        "id": "hGRI4GVrHHSz",
        "colab": {
          "base_uri": "https://localhost:8080/"
        },
        "outputId": "b60f5f86-0217-43a1-ca6c-a2c5e1ecb0c7"
      },
      "source": [
        "gb = GradientBoostingClassifier(**gridsearch3.best_params_).fit(X_train, y_train)\n",
        "y_test_pred = gb.predict(X_test)\n",
        "print(classification_report(y_test , y_test_pred))"
      ],
      "execution_count": 41,
      "outputs": [
        {
          "output_type": "stream",
          "name": "stdout",
          "text": [
            "              precision    recall  f1-score   support\n",
            "\n",
            "           0       0.00      0.00      0.00        96\n",
            "           1       0.81      1.00      0.89       404\n",
            "\n",
            "    accuracy                           0.81       500\n",
            "   macro avg       0.40      0.50      0.45       500\n",
            "weighted avg       0.65      0.81      0.72       500\n",
            "\n"
          ]
        }
      ]
    },
    {
      "cell_type": "markdown",
      "metadata": {
        "id": "YtfX0FgEZ5PH"
      },
      "source": [
        "## **K-Nearest Neighbors**"
      ]
    },
    {
      "cell_type": "code",
      "metadata": {
        "id": "RlfDBardHIex",
        "colab": {
          "base_uri": "https://localhost:8080/"
        },
        "outputId": "b3a04e1a-5455-4c30-ae37-2e4ed7897343"
      },
      "source": [
        "knn = KNeighborsClassifier(**gridsearch4.best_params_).fit(X_train, y_train)\n",
        "y_test_pred = knn.predict(X_test)\n",
        "print(classification_report(y_test , y_test_pred))"
      ],
      "execution_count": 42,
      "outputs": [
        {
          "output_type": "stream",
          "name": "stdout",
          "text": [
            "              precision    recall  f1-score   support\n",
            "\n",
            "           0       0.38      0.05      0.09        96\n",
            "           1       0.81      0.98      0.89       404\n",
            "\n",
            "    accuracy                           0.80       500\n",
            "   macro avg       0.60      0.52      0.49       500\n",
            "weighted avg       0.73      0.80      0.74       500\n",
            "\n"
          ]
        }
      ]
    },
    {
      "cell_type": "markdown",
      "metadata": {
        "id": "5muPSrZFaBg7"
      },
      "source": [
        "## **Multinomial Naive Bayes**"
      ]
    },
    {
      "cell_type": "code",
      "metadata": {
        "id": "B88rqgslHJPA",
        "colab": {
          "base_uri": "https://localhost:8080/"
        },
        "outputId": "b5fe95ae-062d-4f91-a205-232540510ba1"
      },
      "source": [
        "mnb = MultinomialNB(**gridsearch5.best_params_).fit(X_train, y_train)\n",
        "y_test_pred = mnb.predict(X_test)\n",
        "print(classification_report(y_test , y_test_pred))"
      ],
      "execution_count": 43,
      "outputs": [
        {
          "output_type": "stream",
          "name": "stdout",
          "text": [
            "              precision    recall  f1-score   support\n",
            "\n",
            "           0       0.29      0.05      0.09        96\n",
            "           1       0.81      0.97      0.88       404\n",
            "\n",
            "    accuracy                           0.79       500\n",
            "   macro avg       0.55      0.51      0.49       500\n",
            "weighted avg       0.71      0.79      0.73       500\n",
            "\n"
          ]
        }
      ]
    },
    {
      "cell_type": "markdown",
      "metadata": {
        "id": "reQMq7OLaFzQ"
      },
      "source": [
        "## **Stochastic Gradient Descent**"
      ]
    },
    {
      "cell_type": "code",
      "metadata": {
        "id": "lyjpm75oHJ0F",
        "colab": {
          "base_uri": "https://localhost:8080/"
        },
        "outputId": "6d85c30e-d6d0-44f4-d5b0-fd8725662446"
      },
      "source": [
        "sgd = SGDClassifier(**gridsearch6.best_params_).fit(X_train, y_train)\n",
        "y_test_pred = sgd.predict(X_test)\n",
        "print(classification_report(y_test , y_test_pred))"
      ],
      "execution_count": 44,
      "outputs": [
        {
          "output_type": "stream",
          "name": "stdout",
          "text": [
            "              precision    recall  f1-score   support\n",
            "\n",
            "           0       0.20      0.01      0.02        96\n",
            "           1       0.81      0.99      0.89       404\n",
            "\n",
            "    accuracy                           0.80       500\n",
            "   macro avg       0.50      0.50      0.45       500\n",
            "weighted avg       0.69      0.80      0.72       500\n",
            "\n"
          ]
        }
      ]
    },
    {
      "cell_type": "markdown",
      "metadata": {
        "id": "voqP8iGYaPaD"
      },
      "source": [
        "## **XGBoost**"
      ]
    },
    {
      "cell_type": "code",
      "metadata": {
        "id": "f81zmr_KHKWo",
        "colab": {
          "base_uri": "https://localhost:8080/"
        },
        "outputId": "baf98f01-9f15-4579-ccfe-666022a5dc68"
      },
      "source": [
        "xgb = XGBClassifier(**gridsearch7.best_params_).fit(X_train, y_train)\n",
        "y_test_pred = xgb.predict(X_test)\n",
        "print(classification_report(y_test , y_test_pred))"
      ],
      "execution_count": 45,
      "outputs": [
        {
          "output_type": "stream",
          "name": "stdout",
          "text": [
            "              precision    recall  f1-score   support\n",
            "\n",
            "           0       0.00      0.00      0.00        96\n",
            "           1       0.81      1.00      0.89       404\n",
            "\n",
            "    accuracy                           0.81       500\n",
            "   macro avg       0.40      0.50      0.45       500\n",
            "weighted avg       0.65      0.81      0.72       500\n",
            "\n"
          ]
        }
      ]
    },
    {
      "cell_type": "markdown",
      "metadata": {
        "id": "phald0WraTCg"
      },
      "source": [
        "# **Implementasi Random Search**"
      ]
    },
    {
      "cell_type": "markdown",
      "metadata": {
        "id": "BQvharqVai8k"
      },
      "source": [
        "## **Random Forest**"
      ]
    },
    {
      "cell_type": "code",
      "metadata": {
        "id": "gzqy4x2GamnX",
        "colab": {
          "base_uri": "https://localhost:8080/"
        },
        "outputId": "c39eed63-7fef-4a31-afe0-cfe0598dfc2e"
      },
      "source": [
        "randomsearch = RandomizedSearchCV(RandomForestClassifier(), param_rf, scoring='accuracy')\n",
        "randomsearch.fit(X_train, y_train)"
      ],
      "execution_count": 46,
      "outputs": [
        {
          "output_type": "execute_result",
          "data": {
            "text/plain": [
              "RandomizedSearchCV(cv='warn', error_score='raise-deprecating',\n",
              "                   estimator=RandomForestClassifier(bootstrap=True,\n",
              "                                                    class_weight=None,\n",
              "                                                    criterion='gini',\n",
              "                                                    max_depth=None,\n",
              "                                                    max_features='auto',\n",
              "                                                    max_leaf_nodes=None,\n",
              "                                                    min_impurity_decrease=0.0,\n",
              "                                                    min_impurity_split=None,\n",
              "                                                    min_samples_leaf=1,\n",
              "                                                    min_samples_split=2,\n",
              "                                                    min_weight_fraction_leaf=0.0,\n",
              "                                                    n_estimators='warn',\n",
              "                                                    n_jobs=None,\n",
              "                                                    oob_score=False,\n",
              "                                                    random_state=None,\n",
              "                                                    verbose=0,\n",
              "                                                    warm_start=False),\n",
              "                   iid='warn', n_iter=10, n_jobs=None,\n",
              "                   param_distributions={'criterion': ['gini', 'entropy'],\n",
              "                                        'n_estimators': [10, 100, 1000]},\n",
              "                   pre_dispatch='2*n_jobs', random_state=None, refit=True,\n",
              "                   return_train_score=False, scoring='accuracy', verbose=0)"
            ]
          },
          "metadata": {},
          "execution_count": 46
        }
      ]
    },
    {
      "cell_type": "markdown",
      "metadata": {
        "id": "ui2KIUxzai8k"
      },
      "source": [
        "## **Logistic Regression**"
      ]
    },
    {
      "cell_type": "code",
      "metadata": {
        "id": "eNNiUw70anaZ",
        "colab": {
          "base_uri": "https://localhost:8080/"
        },
        "outputId": "c715e655-c657-4608-ecfc-c05fa53ee829"
      },
      "source": [
        "randomsearch1 = RandomizedSearchCV(LogisticRegression(), param_lr, scoring='accuracy')\n",
        "randomsearch1.fit(X_train, y_train)"
      ],
      "execution_count": 47,
      "outputs": [
        {
          "output_type": "execute_result",
          "data": {
            "text/plain": [
              "RandomizedSearchCV(cv='warn', error_score='raise-deprecating',\n",
              "                   estimator=LogisticRegression(C=1.0, class_weight=None,\n",
              "                                                dual=False, fit_intercept=True,\n",
              "                                                intercept_scaling=1,\n",
              "                                                l1_ratio=None, max_iter=100,\n",
              "                                                multi_class='warn', n_jobs=None,\n",
              "                                                penalty='l2', random_state=None,\n",
              "                                                solver='warn', tol=0.0001,\n",
              "                                                verbose=0, warm_start=False),\n",
              "                   iid='warn', n_iter=10, n_jobs=None,\n",
              "                   param_distributions={'C': array([1.00000000e-03, 3.16227766e-02, 1.00000000e+00, 3.16227766e+01,\n",
              "       1.00000000e+03]),\n",
              "                                        'fit_intercept': ['True', 'False'],\n",
              "                                        'penalty': ['l1', 'l2']},\n",
              "                   pre_dispatch='2*n_jobs', random_state=None, refit=True,\n",
              "                   return_train_score=False, scoring='accuracy', verbose=0)"
            ]
          },
          "metadata": {},
          "execution_count": 47
        }
      ]
    },
    {
      "cell_type": "markdown",
      "metadata": {
        "id": "GdERFtybai8k"
      },
      "source": [
        "## **Gaussian Naive Bayes**"
      ]
    },
    {
      "cell_type": "code",
      "metadata": {
        "id": "tkvJeU94asOw",
        "colab": {
          "base_uri": "https://localhost:8080/"
        },
        "outputId": "211e15d4-633b-4b6c-80e9-430a478c7a53"
      },
      "source": [
        "randomsearch2 = RandomizedSearchCV(GaussianNB(), param_gnb, scoring='accuracy')\n",
        "randomsearch2.fit(X_train, y_train)"
      ],
      "execution_count": 48,
      "outputs": [
        {
          "output_type": "execute_result",
          "data": {
            "text/plain": [
              "RandomizedSearchCV(cv='warn', error_score='raise-deprecating',\n",
              "                   estimator=GaussianNB(priors=None, var_smoothing=1e-09),\n",
              "                   iid='warn', n_iter=10, n_jobs=None,\n",
              "                   param_distributions={'var_smoothing': [1e-09]},\n",
              "                   pre_dispatch='2*n_jobs', random_state=None, refit=True,\n",
              "                   return_train_score=False, scoring='accuracy', verbose=0)"
            ]
          },
          "metadata": {},
          "execution_count": 48
        }
      ]
    },
    {
      "cell_type": "markdown",
      "metadata": {
        "id": "Y_0R5F-rai8l"
      },
      "source": [
        "## **Gradient Boosting**"
      ]
    },
    {
      "cell_type": "code",
      "metadata": {
        "id": "72BgDQKcayrI",
        "colab": {
          "base_uri": "https://localhost:8080/"
        },
        "outputId": "9d6a35f2-f2f0-4994-d9f7-89c67c2680bf"
      },
      "source": [
        "randomsearch3 = RandomizedSearchCV(GradientBoostingClassifier(), param_gb, scoring='accuracy')\n",
        "randomsearch3.fit(X_train, y_train)"
      ],
      "execution_count": 49,
      "outputs": [
        {
          "output_type": "execute_result",
          "data": {
            "text/plain": [
              "RandomizedSearchCV(cv='warn', error_score='raise-deprecating',\n",
              "                   estimator=GradientBoostingClassifier(criterion='friedman_mse',\n",
              "                                                        init=None,\n",
              "                                                        learning_rate=0.1,\n",
              "                                                        loss='deviance',\n",
              "                                                        max_depth=3,\n",
              "                                                        max_features=None,\n",
              "                                                        max_leaf_nodes=None,\n",
              "                                                        min_impurity_decrease=0.0,\n",
              "                                                        min_impurity_split=None,\n",
              "                                                        min_samples_leaf=1,\n",
              "                                                        min_samples_split=2,\n",
              "                                                        min_weight_fraction_leaf=0.0,\n",
              "                                                        n_estimators=100,\n",
              "                                                        n_iter_no_change=None,\n",
              "                                                        presort='auto',\n",
              "                                                        random_state=None,\n",
              "                                                        subsample=1.0,\n",
              "                                                        tol=0.0001,\n",
              "                                                        validation_fraction=0.1,\n",
              "                                                        verbose=0,\n",
              "                                                        warm_start=False),\n",
              "                   iid='warn', n_iter=10, n_jobs=None,\n",
              "                   param_distributions={'learning_rate': [0.001, 0.01, 0.1,\n",
              "                                                          0.3],\n",
              "                                        'n_estimators': [10, 100, 1000]},\n",
              "                   pre_dispatch='2*n_jobs', random_state=None, refit=True,\n",
              "                   return_train_score=False, scoring='accuracy', verbose=0)"
            ]
          },
          "metadata": {},
          "execution_count": 49
        }
      ]
    },
    {
      "cell_type": "markdown",
      "metadata": {
        "id": "4l8MrDVKai8l"
      },
      "source": [
        "## **K-Nearest Neighbors**"
      ]
    },
    {
      "cell_type": "code",
      "metadata": {
        "id": "WDgUSlpvaz2J",
        "colab": {
          "base_uri": "https://localhost:8080/"
        },
        "outputId": "6aa9d2fe-aeb7-4226-a423-135736992e80"
      },
      "source": [
        "randomsearch4 = RandomizedSearchCV(KNeighborsClassifier(), param_knn, scoring='accuracy')\n",
        "randomsearch4.fit(X_train, y_train)"
      ],
      "execution_count": 50,
      "outputs": [
        {
          "output_type": "execute_result",
          "data": {
            "text/plain": [
              "RandomizedSearchCV(cv='warn', error_score='raise-deprecating',\n",
              "                   estimator=KNeighborsClassifier(algorithm='auto',\n",
              "                                                  leaf_size=30,\n",
              "                                                  metric='minkowski',\n",
              "                                                  metric_params=None,\n",
              "                                                  n_jobs=None, n_neighbors=5,\n",
              "                                                  p=2, weights='uniform'),\n",
              "                   iid='warn', n_iter=10, n_jobs=None,\n",
              "                   param_distributions={'algorithm': ['auto', 'ball_tree',\n",
              "                                                      'kd_tree', 'brute'],\n",
              "                                        'n_neighbors': [5],\n",
              "                                        'weights': ['uniform', 'distance']},\n",
              "                   pre_dispatch='2*n_jobs', random_state=None, refit=True,\n",
              "                   return_train_score=False, scoring='accuracy', verbose=0)"
            ]
          },
          "metadata": {},
          "execution_count": 50
        }
      ]
    },
    {
      "cell_type": "markdown",
      "metadata": {
        "id": "mEsYsXchai8l"
      },
      "source": [
        "## **Multinomial Naive Bayes**"
      ]
    },
    {
      "cell_type": "code",
      "metadata": {
        "id": "i4VN9ZXSa0rR",
        "colab": {
          "base_uri": "https://localhost:8080/"
        },
        "outputId": "1c48c0ef-c4b9-428c-9b42-2de8ab0f73f0"
      },
      "source": [
        "randomsearch5 = RandomizedSearchCV(MultinomialNB(), param_mnb, scoring='accuracy')\n",
        "randomsearch5.fit(X_train, y_train)"
      ],
      "execution_count": 51,
      "outputs": [
        {
          "output_type": "execute_result",
          "data": {
            "text/plain": [
              "RandomizedSearchCV(cv='warn', error_score='raise-deprecating',\n",
              "                   estimator=MultinomialNB(alpha=1.0, class_prior=None,\n",
              "                                           fit_prior=True),\n",
              "                   iid='warn', n_iter=10, n_jobs=None,\n",
              "                   param_distributions={'alpha': [1.0, 0.01, 0.001],\n",
              "                                        'fit_prior': ['True', 'False']},\n",
              "                   pre_dispatch='2*n_jobs', random_state=None, refit=True,\n",
              "                   return_train_score=False, scoring='accuracy', verbose=0)"
            ]
          },
          "metadata": {},
          "execution_count": 51
        }
      ]
    },
    {
      "cell_type": "markdown",
      "metadata": {
        "id": "b3LFrz1sai8l"
      },
      "source": [
        "## **Stochastic Stochastic Gradient Descent**"
      ]
    },
    {
      "cell_type": "code",
      "metadata": {
        "id": "HpW_6MEea1oZ",
        "colab": {
          "base_uri": "https://localhost:8080/"
        },
        "outputId": "94e40f75-b42f-45fa-b61e-7be11291da78"
      },
      "source": [
        "randomsearch6 = RandomizedSearchCV(SGDClassifier(), param_sgd, scoring='accuracy')\n",
        "randomsearch6.fit(X_train, y_train)"
      ],
      "execution_count": 52,
      "outputs": [
        {
          "output_type": "execute_result",
          "data": {
            "text/plain": [
              "RandomizedSearchCV(cv='warn', error_score='raise-deprecating',\n",
              "                   estimator=SGDClassifier(alpha=0.0001, average=False,\n",
              "                                           class_weight=None,\n",
              "                                           early_stopping=False, epsilon=0.1,\n",
              "                                           eta0=0.0, fit_intercept=True,\n",
              "                                           l1_ratio=0.15,\n",
              "                                           learning_rate='optimal',\n",
              "                                           loss='hinge', max_iter=1000,\n",
              "                                           n_iter_no_change=5, n_jobs=None,\n",
              "                                           penalty='l2', power_t=0.5,\n",
              "                                           random_state=None, shuffle=True,\n",
              "                                           tol=0.0...\n",
              "                                           verbose=0, warm_start=False),\n",
              "                   iid='warn', n_iter=10, n_jobs=None,\n",
              "                   param_distributions={'loss': ['hinge', 'log',\n",
              "                                                 'modified_huber',\n",
              "                                                 'squared_hinge', 'perceptron',\n",
              "                                                 'huber', 'epsilon_insensitive',\n",
              "                                                 'squared_epsilon_insensitive'],\n",
              "                                        'penalty': ['l2', 'l1', 'elasticnet']},\n",
              "                   pre_dispatch='2*n_jobs', random_state=None, refit=True,\n",
              "                   return_train_score=False, scoring='accuracy', verbose=0)"
            ]
          },
          "metadata": {},
          "execution_count": 52
        }
      ]
    },
    {
      "cell_type": "markdown",
      "metadata": {
        "id": "9pDBRcSdai8l"
      },
      "source": [
        "## **XGBoost**"
      ]
    },
    {
      "cell_type": "code",
      "metadata": {
        "id": "yr_81ZRCa283",
        "colab": {
          "base_uri": "https://localhost:8080/"
        },
        "outputId": "e9140bee-9b9c-4196-82a4-fbdd999760ba"
      },
      "source": [
        "randomsearch7 = RandomizedSearchCV(XGBClassifier(), param_xgb, scoring='accuracy')\n",
        "randomsearch7.fit(X_train, y_train)"
      ],
      "execution_count": 53,
      "outputs": [
        {
          "output_type": "execute_result",
          "data": {
            "text/plain": [
              "RandomizedSearchCV(cv='warn', error_score='raise-deprecating',\n",
              "                   estimator=XGBClassifier(base_score=0.5, booster='gbtree',\n",
              "                                           colsample_bylevel=1,\n",
              "                                           colsample_bynode=1,\n",
              "                                           colsample_bytree=1, gamma=0,\n",
              "                                           learning_rate=0.1, max_delta_step=0,\n",
              "                                           max_depth=3, min_child_weight=1,\n",
              "                                           missing=None, n_estimators=100,\n",
              "                                           n_jobs=1, nthread=None,\n",
              "                                           objective='binary:logistic',\n",
              "                                           random_state=0, reg_alpha=0,\n",
              "                                           reg_lambda=1, scale_pos_weight=1,\n",
              "                                           seed=None, silent=None, subsample=1,\n",
              "                                           verbosity=1),\n",
              "                   iid='warn', n_iter=10, n_jobs=None,\n",
              "                   param_distributions={'booster': ['gbtree', 'gblinear']},\n",
              "                   pre_dispatch='2*n_jobs', random_state=None, refit=True,\n",
              "                   return_train_score=False, scoring='accuracy', verbose=0)"
            ]
          },
          "metadata": {},
          "execution_count": 53
        }
      ]
    },
    {
      "cell_type": "markdown",
      "metadata": {
        "id": "c_Q49AGZbPh3"
      },
      "source": [
        "# **Hasil Random Search**"
      ]
    },
    {
      "cell_type": "code",
      "metadata": {
        "id": "2WimUMU_VI9d",
        "colab": {
          "base_uri": "https://localhost:8080/"
        },
        "outputId": "b1d47bba-9e87-4ada-c027-d5bbb8ff30fe"
      },
      "source": [
        "print(randomsearch.best_params_) # RF\n",
        "print(randomsearch1.best_params_) # LR\n",
        "print(randomsearch2.best_params_) # GNB\n",
        "print(randomsearch3.best_params_) # GB\n",
        "print(randomsearch4.best_params_) # KNN\n",
        "print(randomsearch5.best_params_) # MNB\n",
        "print(randomsearch6.best_params_) # SGD\n",
        "print(randomsearch7.best_params_) # XGB"
      ],
      "execution_count": 54,
      "outputs": [
        {
          "output_type": "stream",
          "name": "stdout",
          "text": [
            "{'n_estimators': 10, 'criterion': 'entropy'}\n",
            "{'penalty': 'l2', 'fit_intercept': 'True', 'C': 1.0}\n",
            "{'var_smoothing': 1e-09}\n",
            "{'n_estimators': 100, 'learning_rate': 0.01}\n",
            "{'weights': 'uniform', 'n_neighbors': 5, 'algorithm': 'auto'}\n",
            "{'fit_prior': 'True', 'alpha': 1.0}\n",
            "{'penalty': 'l2', 'loss': 'squared_hinge'}\n",
            "{'booster': 'gblinear'}\n"
          ]
        }
      ]
    },
    {
      "cell_type": "markdown",
      "metadata": {
        "id": "MUDy9SxvbT2_"
      },
      "source": [
        "# **Implementasi Hyperparameter Berdasarkan Hasil Random Search**"
      ]
    },
    {
      "cell_type": "markdown",
      "metadata": {
        "id": "kIk-Jm4bbuED"
      },
      "source": [
        "## **Random Forest**"
      ]
    },
    {
      "cell_type": "code",
      "metadata": {
        "id": "VxneAkVhbwEI",
        "colab": {
          "base_uri": "https://localhost:8080/"
        },
        "outputId": "06c41c32-156d-4ed8-c202-ce52a99ac87f"
      },
      "source": [
        "rf = RandomForestClassifier(**randomsearch.best_params_).fit(X_train, y_train)\n",
        "y_test_pred = rf.predict(X_test)\n",
        "print(classification_report(y_test , y_test_pred))"
      ],
      "execution_count": 55,
      "outputs": [
        {
          "output_type": "stream",
          "name": "stdout",
          "text": [
            "              precision    recall  f1-score   support\n",
            "\n",
            "           0       0.30      0.21      0.25        96\n",
            "           1       0.82      0.88      0.85       404\n",
            "\n",
            "    accuracy                           0.75       500\n",
            "   macro avg       0.56      0.55      0.55       500\n",
            "weighted avg       0.72      0.75      0.74       500\n",
            "\n"
          ]
        }
      ]
    },
    {
      "cell_type": "markdown",
      "metadata": {
        "id": "AVOMsLV7buEE"
      },
      "source": [
        "## **Logistic Regression**"
      ]
    },
    {
      "cell_type": "code",
      "metadata": {
        "id": "vCrUSPaab1NX",
        "colab": {
          "base_uri": "https://localhost:8080/"
        },
        "outputId": "c6ef2a6a-4697-4527-8830-b3f1ccac04f3"
      },
      "source": [
        "lr = LogisticRegression(**randomsearch1.best_params_).fit(X_train, y_train)\n",
        "y_test_pred = lr.predict(X_test)\n",
        "print(classification_report(y_test , y_test_pred))"
      ],
      "execution_count": 56,
      "outputs": [
        {
          "output_type": "stream",
          "name": "stdout",
          "text": [
            "              precision    recall  f1-score   support\n",
            "\n",
            "           0       0.00      0.00      0.00        96\n",
            "           1       0.81      0.99      0.89       404\n",
            "\n",
            "    accuracy                           0.80       500\n",
            "   macro avg       0.40      0.50      0.45       500\n",
            "weighted avg       0.65      0.80      0.72       500\n",
            "\n"
          ]
        }
      ]
    },
    {
      "cell_type": "markdown",
      "metadata": {
        "id": "477wIboUbuEE"
      },
      "source": [
        "## **Gaussian Naive Bayes**"
      ]
    },
    {
      "cell_type": "code",
      "metadata": {
        "id": "4GyRDGizb2pn",
        "colab": {
          "base_uri": "https://localhost:8080/"
        },
        "outputId": "78ce5e63-7d8d-4e98-fc71-e1e2a32c9611"
      },
      "source": [
        "gnb = GaussianNB().fit(X_train, y_train)\n",
        "y_test_pred = gnb.predict(X_test)\n",
        "print(classification_report(y_test , y_test_pred))"
      ],
      "execution_count": 57,
      "outputs": [
        {
          "output_type": "stream",
          "name": "stdout",
          "text": [
            "              precision    recall  f1-score   support\n",
            "\n",
            "           0       0.20      0.98      0.33        96\n",
            "           1       0.89      0.04      0.08       404\n",
            "\n",
            "    accuracy                           0.22       500\n",
            "   macro avg       0.54      0.51      0.20       500\n",
            "weighted avg       0.76      0.22      0.12       500\n",
            "\n"
          ]
        }
      ]
    },
    {
      "cell_type": "markdown",
      "metadata": {
        "id": "Afc-NogvbuEE"
      },
      "source": [
        "## **Gradient Boosting**"
      ]
    },
    {
      "cell_type": "code",
      "metadata": {
        "id": "7kFoYnhlb34G",
        "colab": {
          "base_uri": "https://localhost:8080/"
        },
        "outputId": "3129f00e-d808-455e-83bf-2dd956bb7908"
      },
      "source": [
        "gb = GradientBoostingClassifier(**randomsearch3.best_params_).fit(X_train, y_train)\n",
        "y_test_pred = gb.predict(X_test)\n",
        "print(classification_report(y_test , y_test_pred))"
      ],
      "execution_count": 58,
      "outputs": [
        {
          "output_type": "stream",
          "name": "stdout",
          "text": [
            "              precision    recall  f1-score   support\n",
            "\n",
            "           0       0.50      0.01      0.02        96\n",
            "           1       0.81      1.00      0.89       404\n",
            "\n",
            "    accuracy                           0.81       500\n",
            "   macro avg       0.65      0.50      0.46       500\n",
            "weighted avg       0.75      0.81      0.73       500\n",
            "\n"
          ]
        }
      ]
    },
    {
      "cell_type": "markdown",
      "metadata": {
        "id": "Sa3qxJGLbuEE"
      },
      "source": [
        "## **K-Nearest Neighbors**"
      ]
    },
    {
      "cell_type": "code",
      "metadata": {
        "id": "cZyeU9o9b46A",
        "colab": {
          "base_uri": "https://localhost:8080/"
        },
        "outputId": "3e0ec160-c2e4-4de7-aa85-2f6e8040b7cb"
      },
      "source": [
        "knn = KNeighborsClassifier(**randomsearch4.best_params_).fit(X_train, y_train)\n",
        "y_test_pred = knn.predict(X_test)\n",
        "print(classification_report(y_test , y_test_pred))"
      ],
      "execution_count": 59,
      "outputs": [
        {
          "output_type": "stream",
          "name": "stdout",
          "text": [
            "              precision    recall  f1-score   support\n",
            "\n",
            "           0       0.38      0.05      0.09        96\n",
            "           1       0.81      0.98      0.89       404\n",
            "\n",
            "    accuracy                           0.80       500\n",
            "   macro avg       0.60      0.52      0.49       500\n",
            "weighted avg       0.73      0.80      0.74       500\n",
            "\n"
          ]
        }
      ]
    },
    {
      "cell_type": "markdown",
      "metadata": {
        "id": "lnA19oU-buEE"
      },
      "source": [
        "## **Multinomial Naive Bayes**"
      ]
    },
    {
      "cell_type": "code",
      "metadata": {
        "id": "yHABGmi0b5nw",
        "colab": {
          "base_uri": "https://localhost:8080/"
        },
        "outputId": "e1b7f9fb-a0a5-4eac-9f59-8972f70eb623"
      },
      "source": [
        "mnb = MultinomialNB(**randomsearch5.best_params_).fit(X_train, y_train)\n",
        "y_test_pred = mnb.predict(X_test)\n",
        "print(classification_report(y_test , y_test_pred))"
      ],
      "execution_count": 60,
      "outputs": [
        {
          "output_type": "stream",
          "name": "stdout",
          "text": [
            "              precision    recall  f1-score   support\n",
            "\n",
            "           0       0.29      0.05      0.09        96\n",
            "           1       0.81      0.97      0.88       404\n",
            "\n",
            "    accuracy                           0.79       500\n",
            "   macro avg       0.55      0.51      0.49       500\n",
            "weighted avg       0.71      0.79      0.73       500\n",
            "\n"
          ]
        }
      ]
    },
    {
      "cell_type": "markdown",
      "metadata": {
        "id": "s_H8-cdPbuEE"
      },
      "source": [
        "## **Stochastic Gradient Descent**"
      ]
    },
    {
      "cell_type": "code",
      "metadata": {
        "id": "S0tEYQLJb6ku",
        "colab": {
          "base_uri": "https://localhost:8080/"
        },
        "outputId": "caab793a-0930-496b-ee40-3de586295966"
      },
      "source": [
        "sgd = SGDClassifier(**randomsearch6.best_params_).fit(X_train, y_train)\n",
        "y_test_pred = sgd.predict(X_test)\n",
        "print(classification_report(y_test , y_test_pred))"
      ],
      "execution_count": 61,
      "outputs": [
        {
          "output_type": "stream",
          "name": "stdout",
          "text": [
            "              precision    recall  f1-score   support\n",
            "\n",
            "           0       0.22      0.02      0.04        96\n",
            "           1       0.81      0.98      0.89       404\n",
            "\n",
            "    accuracy                           0.80       500\n",
            "   macro avg       0.52      0.50      0.46       500\n",
            "weighted avg       0.70      0.80      0.72       500\n",
            "\n"
          ]
        }
      ]
    },
    {
      "cell_type": "markdown",
      "metadata": {
        "id": "EOm6w0lhbuEE"
      },
      "source": [
        "## **XGBoost**"
      ]
    },
    {
      "cell_type": "code",
      "metadata": {
        "id": "EDHqjPLDb8bB",
        "colab": {
          "base_uri": "https://localhost:8080/"
        },
        "outputId": "1a236263-7262-4302-a076-3ba89da4e987"
      },
      "source": [
        "xgb = XGBClassifier(**randomsearch7.best_params_).fit(X_train, y_train)\n",
        "y_test_pred = xgb.predict(X_test)\n",
        "print(classification_report(y_test , y_test_pred))"
      ],
      "execution_count": 62,
      "outputs": [
        {
          "output_type": "stream",
          "name": "stdout",
          "text": [
            "              precision    recall  f1-score   support\n",
            "\n",
            "           0       0.00      0.00      0.00        96\n",
            "           1       0.81      1.00      0.89       404\n",
            "\n",
            "    accuracy                           0.81       500\n",
            "   macro avg       0.40      0.50      0.45       500\n",
            "weighted avg       0.65      0.81      0.72       500\n",
            "\n"
          ]
        }
      ]
    }
  ]
}